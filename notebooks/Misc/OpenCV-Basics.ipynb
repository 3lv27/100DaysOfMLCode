{
 "cells": [
  {
   "cell_type": "code",
   "execution_count": 1,
   "metadata": {},
   "outputs": [],
   "source": [
    "%reload_ext autoreload\n",
    "%autoreload 2\n",
    "import argparse\n",
    "import cv2"
   ]
  },
  {
   "cell_type": "markdown",
   "metadata": {},
   "source": [
    "## Reading images"
   ]
  },
  {
   "cell_type": "code",
   "execution_count": 2,
   "metadata": {},
   "outputs": [],
   "source": [
    "parser = argparse.ArgumentParser()\n",
    "parser.add_argument('--path', default='./img/panigaleV4-2019.jpeg',help='Image path.')\n",
    "params = parser.parse_known_args()[0] #fix for jupyter, in py 'parser.parse_args()' works.\n",
    "img = cv2.imread(params.path)"
   ]
  },
  {
   "cell_type": "code",
   "execution_count": 3,
   "metadata": {},
   "outputs": [],
   "source": [
    "assert img is not None  # check if the image was successfully"
   ]
  },
  {
   "cell_type": "code",
   "execution_count": 4,
   "metadata": {},
   "outputs": [
    {
     "name": "stdout",
     "output_type": "stream",
     "text": [
      "read ./img/panigaleV4-2019.jpeg\n",
      "shape: (150, 335, 3)\n",
      "dtype: uint8\n"
     ]
    }
   ],
   "source": [
    "print('read {}'.format(params.path))\n",
    "print('shape:', img.shape) #(image height, image width, color channels count)\n",
    "print('dtype:', img.dtype)\n"
   ]
  },
  {
   "cell_type": "code",
   "execution_count": 5,
   "metadata": {},
   "outputs": [
    {
     "name": "stdout",
     "output_type": "stream",
     "text": [
      "read ./img/panigaleV4-2019.jpeg as grayscale\n",
      "shape: (150, 335)\n",
      "dtype: uint8\n"
     ]
    }
   ],
   "source": [
    "img = cv2.imread(params.path, cv2.IMREAD_GRAYSCALE) #converting the image into garyscale\n",
    "assert img is not None\n",
    "print('read {} as grayscale'.format(params.path))\n",
    "print('shape:', img.shape)\n",
    "print('dtype:', img.dtype)"
   ]
  },
  {
   "cell_type": "markdown",
   "metadata": {},
   "source": [
    "## Simple image transformations"
   ]
  },
  {
   "cell_type": "code",
   "execution_count": 6,
   "metadata": {},
   "outputs": [
    {
     "name": "stdout",
     "output_type": "stream",
     "text": [
      "original image shape: (150, 335, 3)\n"
     ]
    }
   ],
   "source": [
    "img = cv2.imread('./img/panigaleV4-2019.jpeg')\n",
    "print('original image shape:', img.shape)"
   ]
  },
  {
   "cell_type": "code",
   "execution_count": 7,
   "metadata": {},
   "outputs": [
    {
     "name": "stdout",
     "output_type": "stream",
     "text": [
      "resized to 128x256 image shape: (256, 128, 3)\n"
     ]
    }
   ],
   "source": [
    "width, height = 128, 256 #pixels\n",
    "resized_img = cv2.resize(img, (width, height))\n",
    "print('resized to 128x256 image shape:', resized_img.shape)"
   ]
  },
  {
   "cell_type": "markdown",
   "metadata": {},
   "source": [
    "**Resize by setting multipliers of the image's original width and height:**"
   ]
  },
  {
   "cell_type": "code",
   "execution_count": 8,
   "metadata": {},
   "outputs": [
    {
     "name": "stdout",
     "output_type": "stream",
     "text": [
      "image shape: (75, 84, 3)\n"
     ]
    }
   ],
   "source": [
    "w_mult, h_mult = 0.25, 0.5\n",
    "resized_img = cv2.resize(img, (0,0), resized_img, w_mult, h_mult)\n",
    "print('image shape:', resized_img.shape)"
   ]
  },
  {
   "cell_type": "markdown",
   "metadata": {},
   "source": [
    "**Resize using nearest-neighbor interpolation instead of the default one:**"
   ]
  },
  {
   "cell_type": "code",
   "execution_count": 9,
   "metadata": {},
   "outputs": [
    {
     "name": "stdout",
     "output_type": "stream",
     "text": [
      "half sized image shape: (600, 670, 3)\n"
     ]
    }
   ],
   "source": [
    "w_mult, h_mult = 2, 4\n",
    "resized_img = cv2.resize(img, (0, 0), resized_img, w_mult, h_mult,\n",
    "cv2.INTER_NEAREST)\n",
    "print('half sized image shape:', resized_img.shape)\n"
   ]
  },
  {
   "cell_type": "markdown",
   "metadata": {},
   "source": [
    "**Reflect the image (mirroring)** swaping the pixels"
   ]
  },
  {
   "cell_type": "code",
   "execution_count": 10,
   "metadata": {},
   "outputs": [],
   "source": [
    "img_flip_along_x = cv2.flip(img, 0) #along its horizontal x-axis, we should pass 0 as the last argument\n",
    "img_flip_along_y = cv2.flip(img, 1) #along its horizontal y-axis, we should pass any value > 0\n",
    "img_flipped_xy = cv2.flip(img, -1) #fliplig both, we should pass any negative value"
   ]
  },
  {
   "cell_type": "markdown",
   "metadata": {},
   "source": [
    "## Saving images using lossy and lossless compression"
   ]
  },
  {
   "cell_type": "code",
   "execution_count": 11,
   "metadata": {},
   "outputs": [],
   "source": [
    "img = cv2.imread('./img/panigaleV4-2019.jpeg')"
   ]
  },
  {
   "cell_type": "markdown",
   "metadata": {},
   "source": [
    "**Save the image in PNG format wothout losing quality**"
   ]
  },
  {
   "cell_type": "code",
   "execution_count": 15,
   "metadata": {},
   "outputs": [
    {
     "data": {
      "text/plain": [
       "True"
      ]
     },
     "execution_count": 15,
     "metadata": {},
     "output_type": "execute_result"
    }
   ],
   "source": [
    "# save image with lower compression—bigger file size but faster decoding\n",
    "cv2.imwrite('./img/panigaleV4-2019compressed.png', img, [cv2.IMWRITE_PNG_COMPRESSION, 0])\n"
   ]
  },
  {
   "cell_type": "code",
   "execution_count": 16,
   "metadata": {},
   "outputs": [
    {
     "data": {
      "text/plain": [
       "True"
      ]
     },
     "execution_count": 16,
     "metadata": {},
     "output_type": "execute_result"
    }
   ],
   "source": [
    "# save image with lower quality—smaller file size\n",
    "cv2.imwrite('./img/panigaleV4-2019compressed.jpg', img, [cv2.IMWRITE_JPEG_QUALITY, 0])"
   ]
  },
  {
   "cell_type": "markdown",
   "metadata": {},
   "source": [
    "## Showing images in an OpenCV window"
   ]
  },
  {
   "cell_type": "code",
   "execution_count": 18,
   "metadata": {},
   "outputs": [
    {
     "data": {
      "text/plain": [
       "(150, 335)"
      ]
     },
     "execution_count": 18,
     "metadata": {},
     "output_type": "execute_result"
    }
   ],
   "source": [
    "img = cv2.imread('./img/panigaleV4-2019.jpeg')\n",
    "img_size = img.shape[0:2]\n",
    "img_size"
   ]
  },
  {
   "cell_type": "code",
   "execution_count": 20,
   "metadata": {},
   "outputs": [
    {
     "data": {
      "text/plain": [
       "-1"
      ]
     },
     "execution_count": 20,
     "metadata": {},
     "output_type": "execute_result"
    }
   ],
   "source": [
    "cv2.imshow(\"Original image\", img) #First parameter is the name of teh window\n",
    "cv2.waitKey(2000) #controlling the display time of the window, *mandatory"
   ]
  },
  {
   "cell_type": "code",
   "execution_count": null,
   "metadata": {},
   "outputs": [],
   "source": []
  }
 ],
 "metadata": {
  "kernelspec": {
   "display_name": "Python 3",
   "language": "python",
   "name": "python3"
  },
  "language_info": {
   "codemirror_mode": {
    "name": "ipython",
    "version": 3
   },
   "file_extension": ".py",
   "mimetype": "text/x-python",
   "name": "python",
   "nbconvert_exporter": "python",
   "pygments_lexer": "ipython3",
   "version": "3.7.2"
  }
 },
 "nbformat": 4,
 "nbformat_minor": 2
}
