{
 "cells": [
  {
   "cell_type": "code",
   "execution_count": 1,
   "metadata": {},
   "outputs": [],
   "source": [
    "from torch.utils.data import Dataset, DataLoader"
   ]
  },
  {
   "cell_type": "code",
   "execution_count": 2,
   "metadata": {},
   "outputs": [],
   "source": [
    "class TabularDataset(Dataset):\n",
    "    def __init__(self, data, catCols=None, outputCol=None):      \n",
    "        \"\"\"\n",
    "        Characterizes a Dataset for PyTorch\n",
    "\n",
    "        Parameters\n",
    "        ----------\n",
    "\n",
    "        data: pandas data frame\n",
    "          The data frame object for the input data. It must\n",
    "          contain all the continuous, categorical and the\n",
    "          output columns to be used.\n",
    "\n",
    "        catCols: List of strings\n",
    "          The names of the categorical columns in the data.\n",
    "          These columns will be passed through the embedding\n",
    "          layers in the model. These columns must be\n",
    "          label encoded beforehand. \n",
    "\n",
    "        outputCol: string\n",
    "          The name of the output variable column in the data\n",
    "          provided.\n",
    "        \"\"\"\n",
    "        self.n = data.shape[0]\n",
    "    \n",
    "        if outputCol:\n",
    "            self.y = data[outputCol].astype(np.float32).values.reshape(-1, 1)\n",
    "        else:\n",
    "            self.y =  np.zeros((self.n, 1))\n",
    "\n",
    "        self.catCols = catCols if catCols else []\n",
    "        self.contCols = [col for col in data.columns\n",
    "                        if col not in self.catCols + [outputCol]]\n",
    "\n",
    "        if self.contCols:\n",
    "            self.contX = data[self.contCols].astype(np.float32).values\n",
    "        else:\n",
    "            self.contX = np.zeros((self.n, 1))\n",
    "\n",
    "        if self.catCols:\n",
    "            self.catX = data[catCols].astype(np.int64).values\n",
    "        else:\n",
    "            self.catX =  np.zeros((self.n, 1))\n",
    "\n",
    "    def __len__(self):\n",
    "        \"\"\"\n",
    "        Denotes the total number of samples.\n",
    "        \"\"\"\n",
    "        return self.n\n",
    "\n",
    "    def __getitem__(self, idx):\n",
    "        \"\"\"\n",
    "        Generates one sample of data.\n",
    "        \"\"\"\n",
    "        return [self.y[idx], self.contX[idx], self.catX[idx]]"
   ]
  },
  {
   "cell_type": "code",
   "execution_count": 3,
   "metadata": {},
   "outputs": [],
   "source": [
    "import torch\n",
    "import torch.nn as nn\n",
    "import torch.nn.functional as F"
   ]
  },
  {
   "cell_type": "code",
   "execution_count": 4,
   "metadata": {},
   "outputs": [],
   "source": [
    "class FeedForwardNN(nn.Module):\n",
    "    def __init__(self, embDims, noOfCont, linLayerSizes, outputSize, embDropout, linLayerDropouts):\n",
    "\n",
    "        \"\"\"\n",
    "        Parameters\n",
    "        ----------\n",
    "\n",
    "        embDims: List of two element tuples\n",
    "          This list will contain a two element tuple for each\n",
    "          categorical feature. The first element of a tuple will\n",
    "          denote the number of unique values of the categorical\n",
    "          feature. The second element will denote the embedding\n",
    "          dimension to be used for that feature.\n",
    "\n",
    "        noOfCont: Integer\n",
    "          The number of continuous features in the data.\n",
    "\n",
    "        linLayerSizes: List of integers.\n",
    "          The size of each linear layer. The length will be equal\n",
    "          to the total number\n",
    "          of linear layers in the network.\n",
    "\n",
    "        outputSize: Integer\n",
    "          The size of the final output.\n",
    "\n",
    "        embDropout: Float\n",
    "          The dropout to be used after the embedding layers.\n",
    "\n",
    "        linLayerDropouts: List of floats\n",
    "          The dropouts to be used after each linear layer.\n",
    "        \"\"\"\n",
    "\n",
    "        super().__init__()\n",
    "\n",
    "        # Embedding layers\n",
    "        self.embLayers = nn.ModuleList([nn.Embedding(x, y)\n",
    "                                         for x, y in embDims])\n",
    "\n",
    "        noOfEmbs = sum([y for x, y in embDims])\n",
    "        self.noOfEmbs = noOfEmbs\n",
    "        self.noOfCont = noOfCont\n",
    "\n",
    "        # Linear Layers\n",
    "        firstLinLayer = nn.Linear(self.noOfEmbs + self.noOfCont,\n",
    "                                    linLayerSizes[0])\n",
    "\n",
    "        self.linLayers =\\\n",
    "         nn.ModuleList([firstLinLayer] +\\\n",
    "              [nn.Linear(linLayerSizes[i], linLayerSizes[i + 1])\n",
    "               for i in range(len(linLayerSizes) - 1)])\n",
    "\n",
    "        for linLayer in self.linLayers:\n",
    "            nn.init.kaiming_normal_(linLayer.weight.data)\n",
    "\n",
    "        # Output Layer\n",
    "        self.outputLayer = nn.Linear(linLayerSizes[-1],\n",
    "                                      outputSize)\n",
    "        nn.init.kaiming_normal_(self.outputLayer.weight.data)\n",
    "\n",
    "        # Batch Norm Layers\n",
    "        self.firstBnLayer = nn.BatchNorm1d(self.noOfCont)\n",
    "        self.bnLayers = nn.ModuleList([nn.BatchNorm1d(size)\n",
    "                                        for size in linLayerSizes])\n",
    "\n",
    "        # Dropout Layers\n",
    "        self.embDropoutLayer = nn.Dropout(embDropout)\n",
    "        self.droputLayers = nn.ModuleList([nn.Dropout(size)\n",
    "                                      for size in linLayerDropouts])\n",
    "\n",
    "    def forward(self, contData, catData):\n",
    "\n",
    "        if self.noOfEmbs != 0:\n",
    "            x = [embLayer(catData[:, i]) for i,embLayer in enumerate(self.embLayers)]\n",
    "            x = torch.cat(x, 1)\n",
    "            x = self.embDropoutLayer(x)\n",
    "\n",
    "        if self.noOfCont != 0:\n",
    "            normalizedContData = self.firstBnLayer(contData)\n",
    "\n",
    "            if self.noOfEmbs != 0:\n",
    "                x = torch.cat([x, normalizedContData], 1) \n",
    "            else:\n",
    "                x = normalizedContData\n",
    "\n",
    "        for linLayer, dropoutLayer, bnLayer in\\\n",
    "            zip(self.linLayers, self.droputLayers, self.bnLayers):\n",
    "\n",
    "            x = F.relu(linLayer(x))\n",
    "            x = bnLayer(x)\n",
    "            x = dropoutLayer(x)\n",
    "\n",
    "        x = self.outputLayer(x)\n",
    "\n",
    "        return x"
   ]
  },
  {
   "cell_type": "code",
   "execution_count": 5,
   "metadata": {},
   "outputs": [],
   "source": [
    "import pandas as pd\n",
    "import numpy as np\n",
    "from sklearn.preprocessing import LabelEncoder"
   ]
  },
  {
   "cell_type": "code",
   "execution_count": 6,
   "metadata": {},
   "outputs": [],
   "source": [
    "data = pd.read_csv('.datasets/train.csv', usecols=[\"SalePrice\", \"MSSubClass\", \"MSZoning\", \"LotFrontage\", \"LotArea\",\n",
    "                                                  \"Street\", \"YearBuilt\", \"LotShape\", \"1stFlrSF\", \"2ndFlrSF\"]).dropna()"
   ]
  },
  {
   "cell_type": "code",
   "execution_count": 7,
   "metadata": {},
   "outputs": [],
   "source": [
    "categoricalFeatures = [\"MSSubClass\", \"MSZoning\", \"Street\", \"LotShape\", \"YearBuilt\"]\n",
    "outputFeature = \"SalePrice\""
   ]
  },
  {
   "cell_type": "code",
   "execution_count": 8,
   "metadata": {},
   "outputs": [],
   "source": [
    "labelEncoders = {}\n",
    "for catCol in categoricalFeatures:\n",
    "    labelEncoders[catCol] = LabelEncoder()\n",
    "    data[catCol] = labelEncoders[catCol].fit_transform(data[catCol])"
   ]
  },
  {
   "cell_type": "code",
   "execution_count": 9,
   "metadata": {},
   "outputs": [
    {
     "data": {
      "text/html": [
       "<div>\n",
       "<style scoped>\n",
       "    .dataframe tbody tr th:only-of-type {\n",
       "        vertical-align: middle;\n",
       "    }\n",
       "\n",
       "    .dataframe tbody tr th {\n",
       "        vertical-align: top;\n",
       "    }\n",
       "\n",
       "    .dataframe thead th {\n",
       "        text-align: right;\n",
       "    }\n",
       "</style>\n",
       "<table border=\"1\" class=\"dataframe\">\n",
       "  <thead>\n",
       "    <tr style=\"text-align: right;\">\n",
       "      <th></th>\n",
       "      <th>MSSubClass</th>\n",
       "      <th>MSZoning</th>\n",
       "      <th>LotFrontage</th>\n",
       "      <th>LotArea</th>\n",
       "      <th>Street</th>\n",
       "      <th>LotShape</th>\n",
       "      <th>YearBuilt</th>\n",
       "      <th>1stFlrSF</th>\n",
       "      <th>2ndFlrSF</th>\n",
       "      <th>SalePrice</th>\n",
       "    </tr>\n",
       "  </thead>\n",
       "  <tbody>\n",
       "    <tr>\n",
       "      <th>0</th>\n",
       "      <td>5</td>\n",
       "      <td>3</td>\n",
       "      <td>65.0</td>\n",
       "      <td>8450</td>\n",
       "      <td>1</td>\n",
       "      <td>3</td>\n",
       "      <td>104</td>\n",
       "      <td>856</td>\n",
       "      <td>854</td>\n",
       "      <td>208500</td>\n",
       "    </tr>\n",
       "    <tr>\n",
       "      <th>1</th>\n",
       "      <td>0</td>\n",
       "      <td>3</td>\n",
       "      <td>80.0</td>\n",
       "      <td>9600</td>\n",
       "      <td>1</td>\n",
       "      <td>3</td>\n",
       "      <td>77</td>\n",
       "      <td>1262</td>\n",
       "      <td>0</td>\n",
       "      <td>181500</td>\n",
       "    </tr>\n",
       "    <tr>\n",
       "      <th>2</th>\n",
       "      <td>5</td>\n",
       "      <td>3</td>\n",
       "      <td>68.0</td>\n",
       "      <td>11250</td>\n",
       "      <td>1</td>\n",
       "      <td>0</td>\n",
       "      <td>102</td>\n",
       "      <td>920</td>\n",
       "      <td>866</td>\n",
       "      <td>223500</td>\n",
       "    </tr>\n",
       "    <tr>\n",
       "      <th>3</th>\n",
       "      <td>6</td>\n",
       "      <td>3</td>\n",
       "      <td>60.0</td>\n",
       "      <td>9550</td>\n",
       "      <td>1</td>\n",
       "      <td>0</td>\n",
       "      <td>19</td>\n",
       "      <td>961</td>\n",
       "      <td>756</td>\n",
       "      <td>140000</td>\n",
       "    </tr>\n",
       "    <tr>\n",
       "      <th>4</th>\n",
       "      <td>5</td>\n",
       "      <td>3</td>\n",
       "      <td>84.0</td>\n",
       "      <td>14260</td>\n",
       "      <td>1</td>\n",
       "      <td>0</td>\n",
       "      <td>101</td>\n",
       "      <td>1145</td>\n",
       "      <td>1053</td>\n",
       "      <td>250000</td>\n",
       "    </tr>\n",
       "  </tbody>\n",
       "</table>\n",
       "</div>"
      ],
      "text/plain": [
       "   MSSubClass  MSZoning  LotFrontage  LotArea  Street  LotShape  YearBuilt  \\\n",
       "0           5         3         65.0     8450       1         3        104   \n",
       "1           0         3         80.0     9600       1         3         77   \n",
       "2           5         3         68.0    11250       1         0        102   \n",
       "3           6         3         60.0     9550       1         0         19   \n",
       "4           5         3         84.0    14260       1         0        101   \n",
       "\n",
       "   1stFlrSF  2ndFlrSF  SalePrice  \n",
       "0       856       854     208500  \n",
       "1      1262         0     181500  \n",
       "2       920       866     223500  \n",
       "3       961       756     140000  \n",
       "4      1145      1053     250000  "
      ]
     },
     "execution_count": 9,
     "metadata": {},
     "output_type": "execute_result"
    }
   ],
   "source": [
    "data.head()"
   ]
  },
  {
   "cell_type": "code",
   "execution_count": 10,
   "metadata": {},
   "outputs": [],
   "source": [
    "dataset = TabularDataset(data=data, catCols=categoricalFeatures, outputCol=outputFeature)"
   ]
  },
  {
   "cell_type": "code",
   "execution_count": 11,
   "metadata": {},
   "outputs": [],
   "source": [
    "bs = 64\n",
    "dataLoader = DataLoader(dataset, bs, shuffle=True, num_workers=1)"
   ]
  },
  {
   "cell_type": "code",
   "execution_count": 12,
   "metadata": {},
   "outputs": [
    {
     "data": {
      "text/plain": [
       "[15, 5, 2, 4, 112]"
      ]
     },
     "execution_count": 12,
     "metadata": {},
     "output_type": "execute_result"
    }
   ],
   "source": [
    "catDims = [int(data[col].nunique()) for col in categoricalFeatures]\n",
    "catDims"
   ]
  },
  {
   "cell_type": "code",
   "execution_count": 13,
   "metadata": {},
   "outputs": [
    {
     "data": {
      "text/plain": [
       "[(15, 8), (5, 3), (2, 1), (4, 2), (112, 50)]"
      ]
     },
     "execution_count": 13,
     "metadata": {},
     "output_type": "execute_result"
    }
   ],
   "source": [
    "embDims = [(x, min(50, (x+1) // 2)) for x in catDims]\n",
    "embDims"
   ]
  },
  {
   "cell_type": "code",
   "execution_count": 14,
   "metadata": {},
   "outputs": [],
   "source": [
    "device = torch.device('cuda' if torch.cuda.is_available() else 'cpu')"
   ]
  },
  {
   "cell_type": "code",
   "execution_count": 15,
   "metadata": {},
   "outputs": [],
   "source": [
    "model = FeedForwardNN(embDims, noOfCont=4, linLayerSizes=[50, 100], \n",
    "                      outputSize=1, embDropout=0.04, linLayerDropouts=[0.001, 0.01]).to(device)\n"
   ]
  },
  {
   "cell_type": "code",
   "execution_count": 16,
   "metadata": {},
   "outputs": [],
   "source": [
    "epochs = 5\n",
    "criterion = nn.MSELoss()\n",
    "optimizer = torch.optim.Adam(model.parameters(), lr=0.01)"
   ]
  },
  {
   "cell_type": "code",
   "execution_count": 17,
   "metadata": {},
   "outputs": [
    {
     "name": "stdout",
     "output_type": "stream",
     "text": [
      "Epoch [1/5], Loss: 36060504064.0\n",
      "Epoch [2/5], Loss: 47559094272.0\n",
      "Epoch [3/5], Loss: 37393711104.0\n",
      "Epoch [4/5], Loss: 33508218880.0\n",
      "Epoch [5/5], Loss: 35485421568.0\n"
     ]
    }
   ],
   "source": [
    "for epoch in range(epochs):\n",
    "    for y, contX, catX in dataLoader:\n",
    "          \n",
    "        catX = catX.to(device)\n",
    "        contX = contX.to(device)\n",
    "        y  = y.to(device)\n",
    "\n",
    "        # Forward Pass\n",
    "        preds = model(contX, catX)\n",
    "        loss = criterion(preds, y)\n",
    "\n",
    "        # Backward Pass and Optimization\n",
    "        optimizer.zero_grad()\n",
    "        loss.backward()\n",
    "        optimizer.step()\n",
    "           \n",
    "    print ('Epoch [{}/{}], Loss: {}'\n",
    "            .format(epoch+1, epochs, loss.item()))\n",
    "        "
   ]
  },
  {
   "cell_type": "code",
   "execution_count": null,
   "metadata": {},
   "outputs": [],
   "source": []
  }
 ],
 "metadata": {
  "kernelspec": {
   "display_name": "Python 3",
   "language": "python",
   "name": "python3"
  },
  "language_info": {
   "codemirror_mode": {
    "name": "ipython",
    "version": 3
   },
   "file_extension": ".py",
   "mimetype": "text/x-python",
   "name": "python",
   "nbconvert_exporter": "python",
   "pygments_lexer": "ipython3",
   "version": "3.7.3"
  }
 },
 "nbformat": 4,
 "nbformat_minor": 2
}
