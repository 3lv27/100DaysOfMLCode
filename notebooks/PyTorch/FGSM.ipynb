{
 "cells": [
  {
   "cell_type": "code",
   "execution_count": 1,
   "metadata": {},
   "outputs": [],
   "source": [
    "from __future__ import print_function\n",
    "import torch\n",
    "import torch.nn as nn\n",
    "import torch.nn.functional as F\n",
    "import torch.optim as optim\n",
    "from torchvision import datasets, transforms\n",
    "import numpy as np\n",
    "import matplotlib.pyplot as plt"
   ]
  },
  {
   "cell_type": "code",
   "execution_count": 2,
   "metadata": {},
   "outputs": [],
   "source": [
    "epsilons = [0, .05, .1, .15, .2, .25, .3]\n",
    "pretrainedModel = '.datasets/lenet_mnist_model.pth'\n",
    "useCuda = False"
   ]
  },
  {
   "cell_type": "code",
   "execution_count": 3,
   "metadata": {},
   "outputs": [],
   "source": [
    "# LeNet Model definition\n",
    "class Net(nn.Module):\n",
    "    def __init__(self):\n",
    "        super(Net, self).__init__()\n",
    "        self.conv1 = nn.Conv2d(1, 10, kernel_size=5)\n",
    "        self.conv2 = nn.Conv2d(10, 20, kernel_size=5)\n",
    "        self.drop = nn.Dropout2d()\n",
    "        self.fc1 = nn.Linear(320, 50)\n",
    "        self.fc2 = nn.Linear(50, 10)\n",
    "        \n",
    "    def forward(self, x):\n",
    "        x = F.relu(F.max_pool2d(self.conv1(x), 2))\n",
    "        x = F.relu(F.max_pool2d(self.drop(self.conv2(x)), 2))\n",
    "        x = x.view(-1, 320)\n",
    "        x = F.relu(self.fc1(x))\n",
    "        x = F.dropout(x, training=self.training)\n",
    "        x = self.fc2(x)\n",
    "        return F.log_softmax(x, dim=1)"
   ]
  },
  {
   "cell_type": "code",
   "execution_count": 6,
   "metadata": {},
   "outputs": [
    {
     "name": "stderr",
     "output_type": "stream",
     "text": [
      "0it [00:00, ?it/s]"
     ]
    },
    {
     "name": "stdout",
     "output_type": "stream",
     "text": [
      "Downloading http://yann.lecun.com/exdb/mnist/train-images-idx3-ubyte.gz to ./datasets/MNIST/raw/train-images-idx3-ubyte.gz\n"
     ]
    },
    {
     "name": "stderr",
     "output_type": "stream",
     "text": [
      "100%|█████████▉| 9879552/9912422 [00:20<00:00, 427430.06it/s]"
     ]
    },
    {
     "name": "stdout",
     "output_type": "stream",
     "text": [
      "Extracting ./datasets/MNIST/raw/train-images-idx3-ubyte.gz\n"
     ]
    },
    {
     "name": "stderr",
     "output_type": "stream",
     "text": [
      "\n",
      "0it [00:00, ?it/s]\u001b[A"
     ]
    },
    {
     "name": "stdout",
     "output_type": "stream",
     "text": [
      "Downloading http://yann.lecun.com/exdb/mnist/train-labels-idx1-ubyte.gz to ./datasets/MNIST/raw/train-labels-idx1-ubyte.gz\n"
     ]
    },
    {
     "name": "stderr",
     "output_type": "stream",
     "text": [
      "\n",
      "  0%|          | 0/28881 [00:00<?, ?it/s]\u001b[A\n",
      " 57%|█████▋    | 16384/28881 [00:00<00:00, 144767.37it/s]\u001b[A\n",
      "32768it [00:00, 95728.31it/s]                            \u001b[A\n",
      "0it [00:00, ?it/s]\u001b[A"
     ]
    },
    {
     "name": "stdout",
     "output_type": "stream",
     "text": [
      "Extracting ./datasets/MNIST/raw/train-labels-idx1-ubyte.gz\n",
      "Downloading http://yann.lecun.com/exdb/mnist/t10k-images-idx3-ubyte.gz to ./datasets/MNIST/raw/t10k-images-idx3-ubyte.gz\n"
     ]
    },
    {
     "name": "stderr",
     "output_type": "stream",
     "text": [
      "\n",
      "  0%|          | 0/1648877 [00:00<?, ?it/s]\u001b[A\n",
      "  1%|          | 16384/1648877 [00:00<00:18, 88621.58it/s]\u001b[A\n",
      "  2%|▏         | 40960/1648877 [00:00<00:14, 108789.64it/s]\u001b[A\n",
      "  4%|▍         | 73728/1648877 [00:00<00:11, 134578.69it/s]\u001b[A\n",
      "  6%|▌         | 98304/1648877 [00:00<00:10, 153848.11it/s]\u001b[A\n",
      "  8%|▊         | 131072/1648877 [00:01<00:08, 181040.61it/s]\u001b[A\n",
      " 10%|▉         | 163840/1648877 [00:01<00:07, 206000.17it/s]\u001b[A\n",
      " 12%|█▏        | 196608/1648877 [00:01<00:08, 167212.84it/s]\u001b[A\n",
      " 14%|█▍        | 229376/1648877 [00:01<00:07, 192994.42it/s]\u001b[A\n",
      " 16%|█▋        | 270336/1648877 [00:01<00:06, 226145.15it/s]\u001b[A\n",
      " 18%|█▊        | 303104/1648877 [00:01<00:05, 246329.62it/s]\u001b[A\n",
      " 21%|██        | 344064/1648877 [00:01<00:04, 275344.71it/s]\u001b[A\n",
      " 23%|██▎       | 385024/1648877 [00:01<00:04, 300935.56it/s]\u001b[A\n",
      " 26%|██▋       | 434176/1648877 [00:02<00:03, 326953.09it/s]\u001b[A\n",
      " 29%|██▉       | 475136/1648877 [00:02<00:03, 300364.87it/s]\u001b[A\n",
      " 32%|███▏      | 524288/1648877 [00:02<00:03, 335556.34it/s]\u001b[A\n",
      " 35%|███▍      | 573440/1648877 [00:02<00:02, 364564.85it/s]\u001b[A\n",
      " 38%|███▊      | 630784/1648877 [00:02<00:02, 399710.98it/s]\u001b[A\n",
      " 41%|████      | 679936/1648877 [00:02<00:02, 418302.84it/s]\u001b[A\n",
      " 45%|████▌     | 745472/1648877 [00:02<00:01, 459188.20it/s]\u001b[A\n",
      " 48%|████▊     | 794624/1648877 [00:02<00:01, 463767.43it/s]\u001b[A\n",
      " 52%|█████▏    | 860160/1648877 [00:03<00:01, 498819.69it/s]\u001b[A\n",
      " 56%|█████▌    | 917504/1648877 [00:03<00:01, 509346.21it/s]\u001b[A\n",
      " 60%|█████▉    | 983040/1648877 [00:03<00:01, 536101.65it/s]\u001b[A\n",
      " 64%|██████▍   | 1056768/1648877 [00:03<00:01, 575102.81it/s]\u001b[A\n",
      " 68%|██████▊   | 1122304/1648877 [00:03<00:00, 563867.67it/s]\u001b[A\n",
      " 74%|███████▎  | 1212416/1648877 [00:03<00:00, 635174.01it/s]\u001b[A\n",
      " 78%|███████▊  | 1286144/1648877 [00:03<00:00, 645359.14it/s]\u001b[A\n",
      " 83%|████████▎ | 1376256/1648877 [00:03<00:00, 694112.47it/s]\u001b[A\n",
      " 89%|████████▉ | 1466368/1648877 [00:03<00:00, 737445.38it/s]\u001b[A\n",
      " 95%|█████████▍| 1564672/1648877 [00:03<00:00, 784344.93it/s]\u001b[A\n",
      "1654784it [00:04, 412604.34it/s]                             \u001b[A\n",
      "0it [00:00, ?it/s]\u001b[A"
     ]
    },
    {
     "name": "stdout",
     "output_type": "stream",
     "text": [
      "Extracting ./datasets/MNIST/raw/t10k-images-idx3-ubyte.gz\n",
      "Downloading http://yann.lecun.com/exdb/mnist/t10k-labels-idx1-ubyte.gz to ./datasets/MNIST/raw/t10k-labels-idx1-ubyte.gz\n"
     ]
    },
    {
     "name": "stderr",
     "output_type": "stream",
     "text": [
      "\n",
      "  0%|          | 0/4542 [00:00<?, ?it/s]\u001b[A\n",
      "8192it [00:00, 31253.20it/s]            \u001b[A"
     ]
    },
    {
     "name": "stdout",
     "output_type": "stream",
     "text": [
      "Extracting ./datasets/MNIST/raw/t10k-labels-idx1-ubyte.gz\n",
      "Processing...\n",
      "Done!\n"
     ]
    }
   ],
   "source": [
    "testLoader = torch.utils.data.DataLoader(\n",
    "    datasets.MNIST('./datasets', train=False, download=True, transform = transforms.Compose([\n",
    "        transforms.ToTensor()\n",
    "    ])), batch_size=1, shuffle=True\n",
    ")"
   ]
  },
  {
   "cell_type": "code",
   "execution_count": 8,
   "metadata": {},
   "outputs": [],
   "source": [
    "device = torch.device(\"cuda\" if (useCuda and torch.cuda.is_available()) else \"cpu\")"
   ]
  },
  {
   "cell_type": "code",
   "execution_count": 9,
   "metadata": {},
   "outputs": [],
   "source": [
    "# Initialize the network\n",
    "model = Net().to(device)"
   ]
  },
  {
   "cell_type": "code",
   "execution_count": 10,
   "metadata": {},
   "outputs": [],
   "source": [
    "# Load the pretrained model\n",
    "model.load_state_dict(torch.load(pretrainedModel, map_location='cpu'))"
   ]
  },
  {
   "cell_type": "code",
   "execution_count": 11,
   "metadata": {},
   "outputs": [
    {
     "data": {
      "text/plain": [
       "Net(\n",
       "  (conv1): Conv2d(1, 10, kernel_size=(5, 5), stride=(1, 1))\n",
       "  (conv2): Conv2d(10, 20, kernel_size=(5, 5), stride=(1, 1))\n",
       "  (drop): Dropout2d(p=0.5)\n",
       "  (fc1): Linear(in_features=320, out_features=50, bias=True)\n",
       "  (fc2): Linear(in_features=50, out_features=10, bias=True)\n",
       ")"
      ]
     },
     "execution_count": 11,
     "metadata": {},
     "output_type": "execute_result"
    }
   ],
   "source": [
    "# Set the model in evaluation mode. In this case this is for the Dropout layers\n",
    "model.eval()"
   ]
  },
  {
   "cell_type": "markdown",
   "metadata": {},
   "source": [
    "## FGSM Attack"
   ]
  },
  {
   "cell_type": "code",
   "execution_count": null,
   "metadata": {},
   "outputs": [],
   "source": []
  }
 ],
 "metadata": {
  "kernelspec": {
   "display_name": "Python 3",
   "language": "python",
   "name": "python3"
  },
  "language_info": {
   "codemirror_mode": {
    "name": "ipython",
    "version": 3
   },
   "file_extension": ".py",
   "mimetype": "text/x-python",
   "name": "python",
   "nbconvert_exporter": "python",
   "pygments_lexer": "ipython3",
   "version": "3.7.3"
  }
 },
 "nbformat": 4,
 "nbformat_minor": 2
}
