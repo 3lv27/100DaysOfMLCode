{
 "cells": [
  {
   "cell_type": "code",
   "execution_count": 1,
   "metadata": {},
   "outputs": [],
   "source": [
    "%matplotlib inline\n",
    "from fastai.basics import *"
   ]
  },
  {
   "cell_type": "markdown",
   "metadata": {},
   "source": [
    "## Linear Regresion "
   ]
  },
  {
   "cell_type": "code",
   "execution_count": 3,
   "metadata": {},
   "outputs": [],
   "source": [
    "n = 100"
   ]
  },
  {
   "cell_type": "code",
   "execution_count": 4,
   "metadata": {},
   "outputs": [
    {
     "data": {
      "text/plain": [
       "tensor([[-0.2427,  1.0000],\n",
       "        [-0.0105,  1.0000],\n",
       "        [-0.4843,  1.0000],\n",
       "        [ 0.7953,  1.0000],\n",
       "        [-0.4596,  1.0000],\n",
       "        [ 0.7833,  1.0000],\n",
       "        [-0.8607,  1.0000]])"
      ]
     },
     "execution_count": 4,
     "metadata": {},
     "output_type": "execute_result"
    }
   ],
   "source": [
    "x = torch.ones(n,2) #it creates a tensor with: n-rows, 2-columns filles with value-1 (PyTorch)\n",
    "x[:,0].uniform_(-1.,1) #Fills the given 2-dimensional matrix with values drawn from a uniform distribution parameterized by low and high.\n",
    "x[0:7] #print from 0 to 7"
   ]
  },
  {
   "cell_type": "code",
   "execution_count": 5,
   "metadata": {},
   "outputs": [
    {
     "data": {
      "text/plain": [
       "tensor([3., 2.])"
      ]
     },
     "execution_count": 5,
     "metadata": {},
     "output_type": "execute_result"
    }
   ],
   "source": [
    "a = tensor(3.,2) #3stands the slope and 2 for the intercept\n",
    "a #print"
   ]
  },
  {
   "cell_type": "code",
   "execution_count": 16,
   "metadata": {},
   "outputs": [
    {
     "data": {
      "text/plain": [
       "tensor([ 2.2486,  2.8246,  1.5368,  5.1054,  1.1535,  4.9449, -0.4954,  1.9462,\n",
       "         1.8369,  4.9495,  0.2446,  1.8467,  1.7054,  1.2588,  0.6819,  1.3954,\n",
       "         0.6353, -0.2058,  1.7420,  1.7389,  5.4816,  1.9510,  2.6052,  2.5770,\n",
       "         4.2302,  2.0370,  1.5566,  3.4740,  4.4219,  5.3258,  1.3085,  2.1610,\n",
       "         2.6802,  0.4214,  3.3327,  0.6014,  0.8817,  5.2272,  2.1091, -0.6053,\n",
       "         0.4028,  0.0567,  3.1374,  2.9701,  1.2692, -0.5493,  2.4880,  4.9654,\n",
       "         4.4921,  2.6703,  4.5977,  0.1174,  1.4100,  3.5398,  2.1730,  1.2959,\n",
       "         0.6756,  2.3783,  0.8238,  1.8210,  0.8695,  1.8111,  4.0290,  2.2655,\n",
       "         0.7313, -0.6353,  1.1920,  3.5313,  1.9317,  1.8276,  0.5271,  5.4603,\n",
       "         4.5649,  1.2866,  3.8023, -0.8734,  5.0816,  0.6915, -0.1488,  0.7093,\n",
       "         0.3149, -0.1493,  3.7525,  3.4887,  3.8436, -0.3855,  2.6618,  2.4566,\n",
       "         5.4151,  4.7791,  3.2378,  3.5083,  1.7365,  3.0282,  2.7680,  0.1383,\n",
       "         2.4383, -0.3486,  5.0118,  0.4180])"
      ]
     },
     "execution_count": 16,
     "metadata": {},
     "output_type": "execute_result"
    }
   ],
   "source": [
    "y = x@a + torch.rand(n) #matrix product between x and a + some noise (random values)\n",
    "y"
   ]
  },
  {
   "cell_type": "code",
   "execution_count": 17,
   "metadata": {},
   "outputs": [
    {
     "data": {
      "text/plain": [
       "<matplotlib.collections.PathCollection at 0x12b913358>"
      ]
     },
     "execution_count": 17,
     "metadata": {},
     "output_type": "execute_result"
    },
    {
     "data": {
      "image/png": "[encoded data removed]",
      "text/plain": [
       "<Figure size 432x288 with 1 Axes>"
      ]
     },
     "metadata": {
      "needs_background": "light"
     },
     "output_type": "display_data"
    }
   ],
   "source": [
    "plt.scatter(x[:,0], y)"
   ]
  },
  {
   "cell_type": "code",
   "execution_count": 18,
   "metadata": {},
   "outputs": [],
   "source": [
    "def mse(y_hat, y): return ((y_hat-y)**2).mean() #classical mse function"
   ]
  },
  {
   "cell_type": "code",
   "execution_count": 19,
   "metadata": {},
   "outputs": [
    {
     "data": {
      "text/plain": [
       "tensor([-1.,  1.])"
      ]
     },
     "execution_count": 19,
     "metadata": {},
     "output_type": "execute_result"
    }
   ],
   "source": [
    "# Suppose we believe a = (-1.0,1.0) then we can compute y_hat which is our prediction and then compute our error.\n",
    "a = tensor(-1.,1)\n",
    "a"
   ]
  },
  {
   "cell_type": "code",
   "execution_count": 20,
   "metadata": {},
   "outputs": [
    {
     "data": {
      "text/plain": [
       "tensor(6.2422)"
      ]
     },
     "execution_count": 20,
     "metadata": {},
     "output_type": "execute_result"
    }
   ],
   "source": [
    "y_hat = x@a\n",
    "sgdVal = mse(y_hat, y)\n",
    "sgdVal #this is what we call loss"
   ]
  },
  {
   "cell_type": "code",
   "execution_count": 22,
   "metadata": {},
   "outputs": [
    {
     "data": {
      "text/plain": [
       "<matplotlib.collections.PathCollection at 0x12b9dd5c0>"
      ]
     },
     "execution_count": 22,
     "metadata": {},
     "output_type": "execute_result"
    },
    {
     "data": {
      "image/png": "[encoded data removed]",
      "text/plain": [
       "<Figure size 432x288 with 1 Axes>"
      ]
     },
     "metadata": {
      "needs_background": "light"
     },
     "output_type": "display_data"
    }
   ],
   "source": [
    "plt.scatter(x[:,0], y)\n",
    "plt.scatter(x[:,0], y_hat)\n"
   ]
  },
  {
   "cell_type": "code",
   "execution_count": 23,
   "metadata": {},
   "outputs": [],
   "source": [
    "# So far we have specified the model (linear regression) and the evaluation criteria (or loss function). \n",
    "# Now we need to handle optimization; that is, how do we find the best values for a? \n",
    "# How do we find the best fitting linear regression."
   ]
  },
  {
   "cell_type": "markdown",
   "metadata": {},
   "source": [
    "## SGD"
   ]
  },
  {
   "cell_type": "code",
   "execution_count": 25,
   "metadata": {},
   "outputs": [
    {
     "data": {
      "text/plain": [
       "Parameter containing:\n",
       "tensor([-1.,  1.], requires_grad=True)"
      ]
     },
     "execution_count": 25,
     "metadata": {},
     "output_type": "execute_result"
    }
   ],
   "source": [
    "a = nn.Parameter(a) #PyTorch parameter\n",
    "a"
   ]
  },
  {
   "cell_type": "code",
   "execution_count": 26,
   "metadata": {},
   "outputs": [],
   "source": [
    "def update():\n",
    "    y_hat = x@a\n",
    "    loss = mse(y, y_hat)\n",
    "    if t % 10 == 0: print(loss)\n",
    "    loss.backward() #calculates the derivative (the gardient). PyTorch keeps track of how it was calculated and lets us calculate the derivative\n",
    "    with torch.no_grad():\n",
    "        a.sub_(lr*a.grad) # the derivative gets stuck inside this attribute (.grad). _sub is substracting in place\n",
    "        a.grad.zero_()"
   ]
  },
  {
   "cell_type": "code",
   "execution_count": 29,
   "metadata": {},
   "outputs": [
    {
     "name": "stdout",
     "output_type": "stream",
     "text": [
      "tensor(0.0763, grad_fn=<MeanBackward1>)\n",
      "tensor(0.0763, grad_fn=<MeanBackward1>)\n",
      "tensor(0.0763, grad_fn=<MeanBackward1>)\n",
      "tensor(0.0763, grad_fn=<MeanBackward1>)\n",
      "tensor(0.0763, grad_fn=<MeanBackward1>)\n",
      "tensor(0.0763, grad_fn=<MeanBackward1>)\n",
      "tensor(0.0763, grad_fn=<MeanBackward1>)\n",
      "tensor(0.0763, grad_fn=<MeanBackward1>)\n",
      "tensor(0.0763, grad_fn=<MeanBackward1>)\n",
      "tensor(0.0763, grad_fn=<MeanBackward1>)\n"
     ]
    }
   ],
   "source": [
    "lr = 1e-1\n",
    "for t in range(100): update()"
   ]
  },
  {
   "cell_type": "code",
   "execution_count": 30,
   "metadata": {},
   "outputs": [
    {
     "data": {
      "text/plain": [
       "<matplotlib.collections.PathCollection at 0x12bba2198>"
      ]
     },
     "execution_count": 30,
     "metadata": {},
     "output_type": "execute_result"
    },
    {
     "data": {
      "image/png": "[encoded data removed]",
      "text/plain": [
       "<Figure size 432x288 with 1 Axes>"
      ]
     },
     "metadata": {
      "needs_background": "light"
     },
     "output_type": "display_data"
    }
   ],
   "source": [
    "plt.scatter(x[:,0],y)\n",
    "plt.scatter(x[:,0],x@a)"
   ]
  },
  {
   "cell_type": "code",
   "execution_count": null,
   "metadata": {},
   "outputs": [],
   "source": []
  }
 ],
 "metadata": {
  "kernelspec": {
   "display_name": "Python 3",
   "language": "python",
   "name": "python3"
  },
  "language_info": {
   "codemirror_mode": {
    "name": "ipython",
    "version": 3
   },
   "file_extension": ".py",
   "mimetype": "text/x-python",
   "name": "python",
   "nbconvert_exporter": "python",
   "pygments_lexer": "ipython3",
   "version": "3.7.2"
  }
 },
 "nbformat": 4,
 "nbformat_minor": 2
}
