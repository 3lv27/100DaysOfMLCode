{
 "cells": [
  {
   "cell_type": "code",
   "execution_count": 3,
   "metadata": {},
   "outputs": [],
   "source": [
    "import torch\n",
    "import torch.utils.data\n",
    "import torch.nn as nn\n",
    "import torch.nn.functional as F"
   ]
  },
  {
   "cell_type": "code",
   "execution_count": null,
   "metadata": {},
   "outputs": [],
   "source": [
    "inLayers, hiddenLayers, outLayers = 1000, 128, 32\n",
    "bs = 32\n",
    "numTimeUnits = 24   # 24 months"
   ]
  },
  {
   "cell_type": "code",
   "execution_count": null,
   "metadata": {},
   "outputs": [],
   "source": [
    "def SurvivalNN(nn.Module):\n",
    "    def __init__(self, inLayers, hiddenLayers, outLayers, numTimeUnits):\n",
    "        super(SurvivalNN, self).__init__()\n",
    "        self.sigmoid = nn.Sigmoid()\n",
    "        self.fc_layer = nn.Sequential(\n",
    "            nn.Linear(inLayers, hiddenLayers), \n",
    "            nn.ReLU(),\n",
    "            nn.Dropout(0.5), \n",
    "            nn.Linear(hiddenLayers, outLayers)\n",
    "        )\n",
    "        self.fc_layer2 = nn.Linear(1, numTimeUnits)\n",
    "        self.beta = Parameter(torch.Tensor(outLayers, 1))\n",
    "        self.beta.data.uniform_(-0.001, 0.001)\n",
    "        \n",
    "    def score_1(self, x):\n",
    "        return torch.exp(x.mm(self.beta))\n",
    "                \n",
    "    def score_2(self, score1):\n",
    "        return self.sigmoid(self.fc_layer2(score1))\n",
    "   \n",
    "    def forward(self, x):\n",
    "        new_x = self.fc_layer(x)\n",
    "        score1 = self.score_1(new_x)\n",
    "        score2 = self.score_2(score1)\n",
    "        return score1, score2\n"
   ]
  }
 ],
 "metadata": {
  "kernelspec": {
   "display_name": "Python 3",
   "language": "python",
   "name": "python3"
  },
  "language_info": {
   "codemirror_mode": {
    "name": "ipython",
    "version": 3
   },
   "file_extension": ".py",
   "mimetype": "text/x-python",
   "name": "python",
   "nbconvert_exporter": "python",
   "pygments_lexer": "ipython3",
   "version": "3.7.3"
  }
 },
 "nbformat": 4,
 "nbformat_minor": 2
}
