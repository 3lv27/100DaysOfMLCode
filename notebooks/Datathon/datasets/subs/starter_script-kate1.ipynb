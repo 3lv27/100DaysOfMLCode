{
 "cells": [
  {
   "cell_type": "code",
   "execution_count": 8,
   "metadata": {},
   "outputs": [],
   "source": [
    "#!/usr/bin/python\n",
    "\"\"\"\n",
    "Copyright 2019 Accenture and/or its affiliates.  All Rights Reserved.  \n",
    "You may not use, copy, modify, and/or distribute this code and/or its documentation without permission from Accenture.\n",
    "Please contact the Advanced Analytics-Operations Analytics team and/or Frode Huse Gjendem (lead) with any questions.\n",
    "\n",
    "\\brief This is the starter script for the Accenture's Health Datathon 2019 competition.\n",
    "\n",
    "\\version 1.0\n",
    "\n",
    "\\date $Date: 2019/05\n",
    "\n",
    "\"\"\"\n",
    "import os\n",
    "import pandas as pd\n",
    "import numpy as np\n",
    "import matplotlib.pyplot as plt\n",
    "from sklearn.preprocessing import LabelEncoder\n",
    "from sksurv.preprocessing import OneHotEncoder\n",
    "from sksurv.linear_model import CoxPHSurvivalAnalysis\n",
    "import error_function # Inside this module you will find the function to calculate Brier error\n"
   ]
  },
  {
   "cell_type": "code",
   "execution_count": 9,
   "metadata": {},
   "outputs": [],
   "source": [
    "######################################\n",
    "# 1. Set configuration & Data Import #\n",
    "######################################\n",
    "\n",
    "# Enter your input data and output data paths below.\n",
    "PATH = os.getcwd()\n",
    "OUTPATH = os.getcwd()\n",
    "\n",
    "# Set the input data folder as working directory.\n",
    "os.chdir(PATH)\n",
    "\n",
    "\n",
    "# Read the train & test files. \n",
    "train = pd.read_csv(\"datasets/train.csv\",  index_col='ID')\n",
    "test = pd.read_csv(\"datasets/test.csv\", index_col='ID')"
   ]
  },
  {
   "cell_type": "markdown",
   "metadata": {},
   "source": [
    "# Dividing the columns"
   ]
  },
  {
   "cell_type": "code",
   "execution_count": 10,
   "metadata": {},
   "outputs": [
    {
     "data": {
      "text/plain": [
       "51"
      ]
     },
     "execution_count": 10,
     "metadata": {},
     "output_type": "execute_result"
    }
   ],
   "source": [
    "numeric_clmn = ['LAB1300',  'LAB1301',  'LAB1307',  'LAB1309',\n",
    "                 'LAB1311', 'LAB1313',  'LAB1314',  'LAB1316',\n",
    "                 'LAB2404', 'LAB2405',  'LAB2406',  'LAB2407',\n",
    "                 'LAB2419',  'LAB2422',  'LAB2467',  'LAB2469',\n",
    "                 'LAB2476',  'LAB2498',  'LAB2544',  'LAB2679',\n",
    "                 'LAB4176',  'MC1R', 'age',\n",
    "                 'LABGF_filtrat_glomerular',\n",
    "                 'cutaneous_biopsy_breslow',\n",
    "                 'count_inv_prec_tumour',\n",
    "                 'count_situ_prec_tumour',\n",
    "                 'cutaneous_biopsy_mitotic_index',\n",
    "                 'neutrofils_per_limfocits',\n",
    "                 'limfocits_per_monocits',\n",
    "                 'slnb_ldn_location_total',\n",
    "                 'total_count_slnb_ldn',\n",
    "                 'total_positives_slnb_ldn']\n",
    "\n",
    "label_clmn = [ 'specific_death', 'months_survival']\n",
    "\n",
    "datetime = ['T0_date']\n",
    "\n",
    "cat_clmn = [\n",
    "                'patient_eye_color',\n",
    "                'patient_hair_color',\n",
    "                'patient_phototype',\n",
    "                'primary_tumour_location_coded',\n",
    "                'cutaneous_biopsy_ulceration',\n",
    "                'cutaneous_biopsy_satellitosis',\n",
    "                'cutaneous_biopsy_vascular_invasion',\n",
    "                'cutaneous_biopsy_neurotropism',\n",
    "                'cutaneous_biopsy_lymphatic_invasion',\n",
    "                'cutaneous_biopsy_predominant_cell_type',\n",
    "                'cutaneous_biopsy_associated_nevus',\n",
    "                'cutaneous_biopsy_histological_subtype',\n",
    "                'cutaneous_biopsy_regression',\n",
    "                'scenario',\n",
    "                'visceral_metastasis_location']\n",
    "\n",
    "len(numeric_clmn) + len(label_clmn) + len(datetime) + len(cat_clmn)"
   ]
  },
  {
   "cell_type": "markdown",
   "metadata": {},
   "source": [
    "# EDA"
   ]
  },
  {
   "cell_type": "markdown",
   "metadata": {},
   "source": [
    "__Categorical__"
   ]
  },
  {
   "cell_type": "code",
   "execution_count": null,
   "metadata": {},
   "outputs": [],
   "source": [
    "from sksurv.nonparametric import kaplan_meier_estimator\n",
    "\n",
    "for category in cat_clmn:\n",
    "    plt.figure()\n",
    "    for value in train[category].unique():\n",
    "        if pd.isnull(value): continue\n",
    "        mask = train[category] == value\n",
    "        time_cell, survival_prob_cell = kaplan_meier_estimator(train['specific_death'][mask].astype('bool'),                                  \n",
    "                                                               train['months_survival'][mask])\n",
    "        plt.step(time_cell, survival_prob_cell, where=\"post\",\n",
    "                 label=\"%s (n = %d)\" % (value, mask.sum()))\n",
    "    plt.title(category)\n",
    "    plt.ylabel(\"est. probability of survival $\\hat{S}(t)$\")\n",
    "    plt.xlabel(\"time $t$\")\n",
    "    plt.legend(loc=\"best\")\n",
    "    plt.show()"
   ]
  },
  {
   "cell_type": "markdown",
   "metadata": {},
   "source": [
    "__Numerical__"
   ]
  },
  {
   "cell_type": "code",
   "execution_count": null,
   "metadata": {
    "collapsed": true
   },
   "outputs": [],
   "source": [
    "import numpy as np\n",
    "\n",
    "def fit_and_score_features(df):\n",
    "    n_features = len(numeric_clmn) #X.shape[1]\n",
    "    scores = np.empty(n_features)\n",
    "    m = CoxPHSurvivalAnalysis()\n",
    "    for j in range(n_features):\n",
    "        sel_idx = ~df[numeric_clmn[j]].isna() \n",
    "        \n",
    "        Xj = df[[numeric_clmn[j]]][sel_idx]\n",
    "        \n",
    "        y = df[label_clmn][sel_idx]\n",
    "        y['specific_death'] = y['specific_death'].astype('bool')\n",
    "        y=y.to_records(index=False)\n",
    "\n",
    "        m.fit(Xj, y)\n",
    "        scores[j] = m.score(Xj, y)\n",
    "    return scores\n",
    "\n",
    "\n",
    "scores = fit_and_score_features(train)\n",
    "pd.Series(scores, index=numeric_clmn).sort_values(ascending=False)"
   ]
  },
  {
   "cell_type": "markdown",
   "metadata": {},
   "source": [
    "# Data preprocessing (Albert)"
   ]
  },
  {
   "cell_type": "code",
   "execution_count": 11,
   "metadata": {},
   "outputs": [],
   "source": [
    "total_null = train.isna().sum().sort_values(ascending=False)\n",
    "percent = 100*(train.isna().sum()/train.isna().count()).sort_values(ascending=False)\n",
    "missing_data = pd.concat([total_null, percent], axis=1, keys=['Total', 'Percent'])\n",
    "#missing_data"
   ]
  },
  {
   "cell_type": "code",
   "execution_count": 4,
   "metadata": {},
   "outputs": [],
   "source": [
    "#train = train.drop(['ID12070'])\n",
    "#train.loc['ID12070','T0_date']\n",
    "\n",
    "#train['T0_date'] = pd.to_datetime(train['T0_date'],format='%Y-%m-%d')\n",
    "# train[['T0_date']].describe()\n",
    "\n",
    "#train['LAB1300_nan'] = train['LAB1300'].isna()\n",
    "#train['LAB1300'].fillna(train['LAB1300'].mean(), inplace=True)\n",
    "#train[train['LAB1300'] > 60] = True"
   ]
  },
  {
   "cell_type": "code",
   "execution_count": 5,
   "metadata": {},
   "outputs": [],
   "source": [
    "train.drop('ID12070', inplace=True) #The patient is an outlier"
   ]
  },
  {
   "cell_type": "code",
   "execution_count": 12,
   "metadata": {},
   "outputs": [],
   "source": [
    "def replace_outlier(df, column, threshold, direction='max'):\n",
    "    fmean = df[column].mean()\n",
    "    if direction == 'max':\n",
    "        df[column] = df[column].apply(lambda x: fmean if x > threshold else x)\n",
    "        for item in df[df[column] > threshold].index:\n",
    "            df.loc[item, (column+'_nan')] = True\n",
    "    elif direction == 'min':\n",
    "        df[column] = df[column].apply(lambda x: fmean if x < threshold else x)\n",
    "        for item in df[df[column] < threshold].index:\n",
    "            df.loc[item, (column+'_nan')] = True\n",
    "\n",
    "#df.drop('LAB1316', axis=1, inplace=True) #Highly correlated with LAB1309\n",
    "#df.drop('limfocits_per_monocits', axis=1, inplace=True) #Highly correlated with LAB1309\n",
    "#df.drop('slnb_ldn_location_total', axis=1, inplace=True) #83% are NaN\n",
    "#df.drop('visceral_metastasis_location', axis=1, inplace=True) #98% are NaN\n",
    "\n",
    "\n",
    "def clean_data(df):\n",
    "    df[numeric_clmn]=df[numeric_clmn].fillna(df[numeric_clmn].mean())\n",
    "    df[cat_clmn]=df[cat_clmn].fillna(\"default\")\n",
    "    \n",
    "    replace_outlier(df, 'LAB1311', 2)\n",
    "    replace_outlier(df, 'LAB2406', 1000)\n",
    "    replace_outlier(df, 'LAB2407', 6)\n",
    "    replace_outlier(df, 'LAB2476', 1000)\n",
    "    replace_outlier(df, 'LAB2544', 15)\n",
    "    replace_outlier(df, 'LAB4176', 60)\n",
    "    replace_outlier(df, 'age', 10, 'min')\n",
    "    \n",
    "    df['T0_date'] = pd.to_datetime(df['T0_date'],format='%Y-%m-%d')\n",
    "    \n",
    "    #df = pd.get_dummies(df, columns=cat_clmn)\n",
    "    return df\n",
    "\n",
    "train = clean_data(train)"
   ]
  },
  {
   "cell_type": "markdown",
   "metadata": {},
   "source": [
    "   "
   ]
  },
  {
   "cell_type": "code",
   "execution_count": 7,
   "metadata": {},
   "outputs": [
    {
     "ename": "NameError",
     "evalue": "name 'df' is not defined",
     "output_type": "error",
     "traceback": [
      "\u001b[0;31m---------------------------------------------------------------------------\u001b[0m",
      "\u001b[0;31mNameError\u001b[0m                                 Traceback (most recent call last)",
      "\u001b[0;32m<ipython-input-7-d5d70f7992b1>\u001b[0m in \u001b[0;36m<module>\u001b[0;34m\u001b[0m\n\u001b[0;32m----> 1\u001b[0;31m \u001b[0mdf\u001b[0m \u001b[0;34m=\u001b[0m \u001b[0mpd\u001b[0m\u001b[0;34m.\u001b[0m\u001b[0mget_dummies\u001b[0m\u001b[0;34m(\u001b[0m\u001b[0mdf\u001b[0m\u001b[0;34m,\u001b[0m \u001b[0mcolumns\u001b[0m\u001b[0;34m=\u001b[0m\u001b[0;34m[\u001b[0m\u001b[0;34m'cutaneous_biopsy_associated_nevus'\u001b[0m\u001b[0;34m,\u001b[0m \u001b[0;34m'month'\u001b[0m\u001b[0;34m,\u001b[0m \u001b[0;34m'year'\u001b[0m\u001b[0;34m,\u001b[0m \u001b[0;34m'scenario'\u001b[0m\u001b[0;34m,\u001b[0m \u001b[0;34m'primary_tumour_location_coded'\u001b[0m\u001b[0;34m,\u001b[0m \u001b[0;34m'patient_hair_color'\u001b[0m\u001b[0;34m,\u001b[0m \u001b[0;34m'patient_eye_color'\u001b[0m\u001b[0;34m,\u001b[0m \u001b[0;34m'cutaneous_biopsy_vascular_invasion'\u001b[0m\u001b[0;34m,\u001b[0m \u001b[0;34m'cutaneous_biopsy_ulceration'\u001b[0m\u001b[0;34m,\u001b[0m \u001b[0;34m'cutaneous_biopsy_satellitosis'\u001b[0m\u001b[0;34m,\u001b[0m \u001b[0;34m'cutaneous_biopsy_regression'\u001b[0m\u001b[0;34m,\u001b[0m \u001b[0;34m'cutaneous_biopsy_predominant_cell_type'\u001b[0m\u001b[0;34m,\u001b[0m \u001b[0;34m'cutaneous_biopsy_neurotropism'\u001b[0m\u001b[0;34m,\u001b[0m \u001b[0;34m'cutaneous_biopsy_lymphatic_invasion'\u001b[0m\u001b[0;34m,\u001b[0m \u001b[0;34m'cutaneous_biopsy_histological_subtype'\u001b[0m\u001b[0;34m,\u001b[0m \u001b[0;34m'patient_phototype'\u001b[0m\u001b[0;34m,\u001b[0m\u001b[0;34m'patient_gender'\u001b[0m\u001b[0;34m]\u001b[0m\u001b[0;34m)\u001b[0m\u001b[0;34m\u001b[0m\u001b[0;34m\u001b[0m\u001b[0m\n\u001b[0m\u001b[1;32m      2\u001b[0m \u001b[0;34m\u001b[0m\u001b[0m\n\u001b[1;32m      3\u001b[0m \u001b[0;32mfrom\u001b[0m \u001b[0msklearn\u001b[0m\u001b[0;34m.\u001b[0m\u001b[0mpreprocessing\u001b[0m \u001b[0;32mimport\u001b[0m \u001b[0mStandardScaler\u001b[0m\u001b[0;34m\u001b[0m\u001b[0;34m\u001b[0m\u001b[0m\n\u001b[1;32m      4\u001b[0m \u001b[0;34m\u001b[0m\u001b[0m\n\u001b[1;32m      5\u001b[0m \u001b[0mscaler\u001b[0m \u001b[0;34m=\u001b[0m \u001b[0mStandardScaler\u001b[0m\u001b[0;34m(\u001b[0m\u001b[0;34m)\u001b[0m\u001b[0;34m\u001b[0m\u001b[0;34m\u001b[0m\u001b[0m\n",
      "\u001b[0;31mNameError\u001b[0m: name 'df' is not defined"
     ]
    }
   ],
   "source": [
    "df = pd.get_dummies(df, columns=['cutaneous_biopsy_associated_nevus', 'month', 'year', 'scenario', 'primary_tumour_location_coded', 'patient_hair_color', 'patient_eye_color', 'cutaneous_biopsy_vascular_invasion', 'cutaneous_biopsy_ulceration', 'cutaneous_biopsy_satellitosis', 'cutaneous_biopsy_regression', 'cutaneous_biopsy_predominant_cell_type', 'cutaneous_biopsy_neurotropism', 'cutaneous_biopsy_lymphatic_invasion', 'cutaneous_biopsy_histological_subtype', 'patient_phototype','patient_gender'])\n",
    "\n",
    "from sklearn.preprocessing import StandardScaler\n",
    "\n",
    "scaler = StandardScaler()\n",
    "df2 = df.select_dtypes(include=['float64', 'int64'])\n",
    "scaler.fit(df2)\n",
    "df_norm = pd.DataFrame(scaler.transform(df2), columns=df2.columns, index=df2.index)\n",
    "df[df2.columns] = df_norm[df2.columns]"
   ]
  },
  {
   "cell_type": "markdown",
   "metadata": {},
   "source": [
    "  "
   ]
  },
  {
   "cell_type": "code",
   "execution_count": 13,
   "metadata": {},
   "outputs": [
    {
     "data": {
      "text/plain": [
       "45"
      ]
     },
     "execution_count": 13,
     "metadata": {},
     "output_type": "execute_result"
    }
   ],
   "source": [
    "clmn_2drop = ['LAB1316','limfocits_per_monocits','slnb_ldn_location_total','visceral_metastasis_location']\n",
    "\n",
    "clmn_list = train.columns.values.tolist()\n",
    "clmn_exclude = (label_clmn + datetime + clmn_2drop)\n",
    "\n",
    "for clmn_ex in clmn_exclude:\n",
    "    for clmn_tr in train.columns.values.tolist():\n",
    "        if clmn_ex in clmn_tr: # go to the next column in DataFrame\n",
    "            clmn_list.remove(clmn_tr)\n",
    "\n",
    "len(clmn_list)"
   ]
  },
  {
   "cell_type": "markdown",
   "metadata": {},
   "source": [
    "# Data transformation"
   ]
  },
  {
   "cell_type": "code",
   "execution_count": 14,
   "metadata": {},
   "outputs": [],
   "source": [
    "from sklearn.preprocessing import LabelEncoder\n",
    "from sksurv.preprocessing import OneHotEncoder\n",
    "from sksurv.linear_model import CoxPHSurvivalAnalysis\n",
    "import error_function # Inside this module you will find the function to calculate Brier error\n",
    "\n",
    "##########################\n",
    "# 2. Data transformation #\n",
    "##########################\n",
    " \n",
    "# Add your feature engineering here. \n",
    "\n",
    "# Feature selection\n",
    "#train_var\n",
    "x_train = train[clmn_list]\n",
    "#x_train = train[['age', 'cutaneous_biopsy_breslow']]\n",
    "y_train = train[['specific_death', 'months_survival']]"
   ]
  },
  {
   "cell_type": "code",
   "execution_count": 15,
   "metadata": {},
   "outputs": [
    {
     "name": "stderr",
     "output_type": "stream",
     "text": [
      "/usr/local/lib/python3.7/site-packages/pandas/core/generic.py:4405: SettingWithCopyWarning: \n",
      "A value is trying to be set on a copy of a slice from a DataFrame.\n",
      "Try using .loc[row_indexer,col_indexer] = value instead\n",
      "\n",
      "See the caveats in the documentation: http://pandas.pydata.org/pandas-docs/stable/indexing.html#indexing-view-versus-copy\n",
      "  self[name] = value\n",
      "/usr/local/lib/python3.7/site-packages/ipykernel_launcher.py:36: SettingWithCopyWarning: \n",
      "A value is trying to be set on a copy of a slice from a DataFrame.\n",
      "Try using .loc[row_indexer,col_indexer] = value instead\n",
      "\n",
      "See the caveats in the documentation: http://pandas.pydata.org/pandas-docs/stable/indexing.html#indexing-view-versus-copy\n",
      "/usr/local/lib/python3.7/site-packages/sksurv/linear_model/coxph.py:161: RuntimeWarning: overflow encountered in exp\n",
      "  risk_set += numpy.exp(xw[k])\n"
     ]
    }
   ],
   "source": [
    "#######################################\n",
    "# 3. Prepare the data & fit the model #\n",
    "#######################################\n",
    "\n",
    "'''\n",
    "@paramters\n",
    "    x_train: Dataframe on which to train the model\n",
    "        Format: Index = ID, Rows = patients, cols = ['Any variables you think may be predictive']\n",
    "    y_train: Dependent variables on which to train the dataset\n",
    "        Format: Index = ID, Rows = patients, cols = ['specific_death', 'months_survival']\n",
    "    test_df: Dataframe on which to test the model\n",
    "        Format: Index = ID, Rows = patients, cols = ['Any variables you think may be predictive']\n",
    "@ return\n",
    "    estimator: survival model\n",
    "    x_test: x_test dataframe. Format: Index = ID, Rows = patients, cols = created by above\n",
    "    x_train: x_train dataframe Format: Index = ID, Rows = patients, cols = created by above\n",
    "    y_train: y_train dataframe Format: Index = ID, Rows = patients, cols = ['specific_death', 'months_survival']\n",
    "'''\n",
    "def fit_and_prepare(x_train, y_train, test_df):\n",
    "    \n",
    "    # 3.1. Prepare Y-----\n",
    "    y_train.specific_death = y_train.specific_death.astype(bool)\n",
    "    \n",
    "    # Transform it into a structured array\n",
    "    y_train = y_train.to_records(index = False)\n",
    "    \n",
    "    # 3.2. Prepare X-----\n",
    "    # obtain the x variables that are categorical\n",
    "    categorical_feature_mask = x_train.dtypes==object\n",
    "\n",
    "    # Filter categorical columns using mask and turn it into a list\n",
    "    categorical_cols = x_train.columns[categorical_feature_mask].tolist()\n",
    "\n",
    "    # Ensure categorical columns are category type\n",
    "    for col in categorical_cols:\n",
    "        x_train[col] = x_train[col].astype('category')\n",
    "        test_df[col] = test_df[col].astype('category')\n",
    "    \n",
    "    # 3.3. Fit model-----\n",
    "    # initiate\n",
    "    encoder = OneHotEncoder()\n",
    "    estimator = CoxPHSurvivalAnalysis()\n",
    "    \n",
    "    # fit model\n",
    "    #estimator.fit(encoder.fit_transform(x_train), y_train)\n",
    "    x_train = encoder.fit_transform(x_train)\n",
    "    estimator.fit(x_train, y_train)\n",
    "\n",
    "    # transform the test variables to match the train\n",
    "    x_test = encoder.transform(test_df)\n",
    "    \n",
    "    return (estimator, x_test, x_train, y_train)\n",
    "\n",
    "# 3.1 Call the function\n",
    "test=clean_data(test)\n",
    "estimator, x_test, x_train, y_train = fit_and_prepare(x_train, y_train, test)"
   ]
  },
  {
   "cell_type": "code",
   "execution_count": 16,
   "metadata": {},
   "outputs": [
    {
     "data": {
      "image/png": "[encoded data removed]",
      "text/plain": [
       "<Figure size 432x288 with 1 Axes>"
      ]
     },
     "metadata": {
      "needs_background": "light"
     },
     "output_type": "display_data"
    }
   ],
   "source": [
    "#############################\n",
    "# 4. Perform the prediction #\n",
    "#############################\n",
    "\n",
    "# 4.1 Get the predictions (probability of being alive) for each patient in test\n",
    "'''\n",
    "@paramters\n",
    "    x_test: Created from above function fit_and_prepare\n",
    "        Format: Index = ID, Rows = patients, cols = created by above\n",
    "    estimator: Created from above function fit_and_prepare; this is the model you just trained\n",
    "'''\n",
    "def get_probabilities(x_test, estimator):\n",
    "    \n",
    "    pred_surv = estimator.predict_survival_function(x_test)\n",
    "\n",
    "    # Get the \"X's\" or time of each data point\n",
    "    times = pred_surv[0].x\n",
    "\n",
    "    # Create an empty pandas dataframes with these times as the columns\n",
    "    pred_df = pd.DataFrame(columns = times)\n",
    "\n",
    "    # Convert each row to a pandas series row (transpose) with the index as these x times and append it to the df\n",
    "    for i in range(0, len(x_test)):\n",
    "        pred_df = pred_df.append(pd.DataFrame(pred_surv[i].y).set_index(times).T) \n",
    "\n",
    "    pred_df = pred_df.set_index(x_test.index)\n",
    "\n",
    "    return pred_df\n",
    "\n",
    "# 4.2 store the predictions (920,254)\n",
    "predictions = get_probabilities(x_test, estimator)\n",
    "\n",
    "# 4.3 Compute estimate of the survival curves\n",
    "pred_curves = estimator.predict_survival_function(x_test)\n",
    "\n",
    "# Plot survival curves for certain observations (here we take first 3 observations)\n",
    "for curve in pred_curves[0:3]:\n",
    "    plt.step(curve.x, curve.y, where=\"post\") "
   ]
  },
  {
   "cell_type": "markdown",
   "metadata": {},
   "source": [
    "# Checking the prediction on train/val"
   ]
  },
  {
   "cell_type": "code",
   "execution_count": 17,
   "metadata": {},
   "outputs": [
    {
     "name": "stdout",
     "output_type": "stream",
     "text": [
      "Overall error:  0    0.056092\n",
      "dtype: float64\n"
     ]
    },
    {
     "data": {
      "image/png": "[encoded data removed]",
      "text/plain": [
       "<Figure size 432x288 with 1 Axes>"
      ]
     },
     "metadata": {
      "needs_background": "light"
     },
     "output_type": "display_data"
    }
   ],
   "source": [
    "predictions_train = get_probabilities(x_train, estimator)\n",
    "pred_curves_train = estimator.predict_survival_function(x_train)\n",
    "\n",
    "# Plot survival curves for certain observations (here we take first 3 observations)\n",
    "for curve in pred_curves_train[0:3]:\n",
    "    plt.step(curve.x, curve.y, where=\"post\") \n",
    "\n",
    "##########################\n",
    "# 5. Calculate the error #\n",
    "##########################\n",
    "    \n",
    "# To be filled\n",
    "predictions_train = get_probabilities(x_train, estimator) \n",
    "# Here 'x_train' was already processed by encoder\n",
    "# in function 'fit_and_prepare'. To use on your data, run\n",
    "# 'x_2use = encoder.transform(x_df_2use)'\n",
    "\n",
    "# Using the different module error_functions obtain the error matrix for y_test\n",
    "weights = error_function.calc_weights(train[['specific_death', 'months_survival']]) \n",
    "\n",
    "error = error_function.brier_score_loss_weighted(pred = predictions_train,\n",
    "                                                 actual = train[['specific_death', 'months_survival']], \n",
    "                                                 weights = weights, \n",
    "                                                 years_cutoff = 10)\n",
    "\n",
    "print(\"Overall error: \", error)"
   ]
  },
  {
   "cell_type": "markdown",
   "metadata": {},
   "source": [
    "# Calculate the error on test!"
   ]
  },
  {
   "cell_type": "code",
   "execution_count": null,
   "metadata": {},
   "outputs": [],
   "source": [
    "##########################\n",
    "# 5. Calculate the error #\n",
    "##########################\n",
    "    \n",
    "# To be filled\n",
    "# Using the different module error_functions obtain the error matrix for y_test\n",
    "weights2 = error_function.calc_weights(x_test) \n",
    "\n",
    "error2 = error_function.brier_score_loss_weighted(pred = predictions_train,\n",
    "                                                 actual = x_test, \n",
    "                                                 weights = weights, \n",
    "                                                 years_cutoff = 10)\n",
    "\n",
    "\n",
    "print(\"Overall error: \", error2)"
   ]
  },
  {
   "cell_type": "code",
   "execution_count": 18,
   "metadata": {},
   "outputs": [],
   "source": [
    "###########################\n",
    "# 6 Create the submission #\n",
    "###########################\n",
    "\n",
    "# Please, remember that rows NEED TO BE indexed by patient IDs and columns MUST be ordered from T0 to T120\n",
    "\n",
    "# First subset to 10 years\n",
    "predictions_10yr = predictions.iloc[:,:121]\n",
    "\n",
    "#Rename columns to Time periods\n",
    "columns = predictions_10yr.columns.values\n",
    "new_columns = ['T' + str(s) for s in columns]\n",
    "predictions_10yr.columns = new_columns\n",
    "\n",
    "# Write the final CSV file\n",
    "# Please, remember than in order to make the submission you need to create a .zip file ONLY with the csv\n",
    "pd.DataFrame(predictions_10yr).to_csv(OUTPATH + '/submission-cox_Elvin2.csv')"
   ]
  },
  {
   "cell_type": "code",
   "execution_count": null,
   "metadata": {},
   "outputs": [],
   "source": [
    "OUTPATH"
   ]
  },
  {
   "cell_type": "code",
   "execution_count": null,
   "metadata": {},
   "outputs": [],
   "source": []
  }
 ],
 "metadata": {
  "kernelspec": {
   "display_name": "Python 3",
   "language": "python",
   "name": "python3"
  },
  "language_info": {
   "codemirror_mode": {
    "name": "ipython",
    "version": 3
   },
   "file_extension": ".py",
   "mimetype": "text/x-python",
   "name": "python",
   "nbconvert_exporter": "python",
   "pygments_lexer": "ipython3",
   "version": "3.7.3"
  }
 },
 "nbformat": 4,
 "nbformat_minor": 2
}
