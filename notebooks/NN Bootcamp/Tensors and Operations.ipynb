{
 "cells": [
  {
   "cell_type": "code",
   "execution_count": 1,
   "metadata": {},
   "outputs": [],
   "source": [
    "import torch"
   ]
  },
  {
   "cell_type": "markdown",
   "metadata": {},
   "source": [
    "## Torch Tensors"
   ]
  },
  {
   "cell_type": "code",
   "execution_count": 2,
   "metadata": {},
   "outputs": [
    {
     "data": {
      "text/plain": [
       "tensor([2, 2, 1])"
      ]
     },
     "execution_count": 2,
     "metadata": {},
     "output_type": "execute_result"
    }
   ],
   "source": [
    "# 1D tensor\n",
    "a = torch.tensor([2,2,1])\n",
    "a"
   ]
  },
  {
   "cell_type": "code",
   "execution_count": 3,
   "metadata": {},
   "outputs": [
    {
     "data": {
      "text/plain": [
       "tensor([[2, 1, 4],\n",
       "        [3, 5, 4],\n",
       "        [1, 2, 0],\n",
       "        [4, 3, 2]])"
      ]
     },
     "execution_count": 3,
     "metadata": {},
     "output_type": "execute_result"
    }
   ],
   "source": [
    "# 2D tensor\n",
    "b = torch.tensor([[2,1,4], [3,5,4], [1,2,0], [4,3,2]])\n",
    "b"
   ]
  },
  {
   "cell_type": "code",
   "execution_count": 4,
   "metadata": {},
   "outputs": [
    {
     "name": "stdout",
     "output_type": "stream",
     "text": [
      "torch.Size([3])\n",
      "torch.Size([4, 3])\n",
      "torch.Size([3])\n",
      "torch.Size([4, 3])\n"
     ]
    }
   ],
   "source": [
    "print(a.shape)\n",
    "print(b.shape)\n",
    "print(a.size())\n",
    "print(b.size())"
   ]
  },
  {
   "cell_type": "code",
   "execution_count": 5,
   "metadata": {},
   "outputs": [
    {
     "data": {
      "text/plain": [
       "4"
      ]
     },
     "execution_count": 5,
     "metadata": {},
     "output_type": "execute_result"
    }
   ],
   "source": [
    "# num of rows\n",
    "b.shape[0]"
   ]
  },
  {
   "cell_type": "code",
   "execution_count": 9,
   "metadata": {},
   "outputs": [
    {
     "data": {
      "text/plain": [
       "(tensor([[2., 1., 4.],\n",
       "         [3., 5., 4.],\n",
       "         [1., 2., 0.],\n",
       "         [4., 3., 2.]]), torch.float32)"
      ]
     },
     "execution_count": 9,
     "metadata": {},
     "output_type": "execute_result"
    }
   ],
   "source": [
    "c = torch.FloatTensor([[2,1,4], [3,5,4], [1,2,0], [4,3,2]])\n",
    "c, c.dtype\n",
    "#we can also do\n",
    "#d = torch.tensor([[2,1,4], [3,5,4], [1,2,0], [4,3,2]], dtype = torch.float)"
   ]
  },
  {
   "cell_type": "code",
   "execution_count": 8,
   "metadata": {},
   "outputs": [
    {
     "data": {
      "text/plain": [
       "tensor([[2., 1., 4.],\n",
       "        [3., 5., 4.],\n",
       "        [1., 2., 0.],\n",
       "        [4., 3., 2.]], dtype=torch.float64)"
      ]
     },
     "execution_count": 8,
     "metadata": {},
     "output_type": "execute_result"
    }
   ],
   "source": [
    "d = torch.DoubleTensor([[2,1,4], [3,5,4], [1,2,0], [4,3,2]])\n",
    "d\n",
    "#we can also do\n",
    "#d = torch.tensor([[2,1,4], [3,5,4], [1,2,0], [4,3,2]], dtype = torch.double)"
   ]
  },
  {
   "cell_type": "code",
   "execution_count": 10,
   "metadata": {},
   "outputs": [
    {
     "name": "stdout",
     "output_type": "stream",
     "text": [
      "tensor(2.5833)\n",
      "tensor(2.5833, dtype=torch.float64)\n",
      "tensor(1.5050)\n",
      "tensor(1.5050, dtype=torch.float64)\n"
     ]
    }
   ],
   "source": [
    "print(c.mean())\n",
    "print(d.mean())\n",
    "print(c.std())\n",
    "print(d.std())"
   ]
  },
  {
   "cell_type": "code",
   "execution_count": 11,
   "metadata": {},
   "outputs": [
    {
     "name": "stdout",
     "output_type": "stream",
     "text": [
      "tensor([[2],\n",
      "        [1],\n",
      "        [4],\n",
      "        [3],\n",
      "        [5],\n",
      "        [4],\n",
      "        [1],\n",
      "        [2],\n",
      "        [0],\n",
      "        [4],\n",
      "        [3],\n",
      "        [2]])\n",
      "tensor([2, 1, 4, 3, 5, 4, 1, 2, 0, 4, 3, 2])\n",
      "tensor([[2, 1, 4, 3],\n",
      "        [5, 4, 1, 2],\n",
      "        [0, 4, 3, 2]])\n",
      "tensor([[2, 1, 4, 3],\n",
      "        [5, 4, 1, 2],\n",
      "        [0, 4, 3, 2]])\n",
      "tensor([[2, 1, 4, 3, 5, 4, 1, 2, 0, 4, 3, 2]])\n",
      "torch.Size([1, 12])\n"
     ]
    }
   ],
   "source": [
    "#Reshape b\n",
    "#Note: If one of the dimensions is -1, its size can be inferred\n",
    "print(b.view(-1,1))\n",
    "print(b.view(12)) \n",
    "\n",
    "print(b.view(-1,4))\n",
    "print(b.view(3,4)) #same thing as above\n",
    "\n",
    "#Assign b a new shape\n",
    "b = b.view(1,-1)\n",
    "print(b)\n",
    "print(b.shape)"
   ]
  },
  {
   "cell_type": "code",
   "execution_count": 12,
   "metadata": {},
   "outputs": [
    {
     "data": {
      "text/plain": [
       "tensor([[[0.6230, 0.3997, 0.5821, 0.2578],\n",
       "         [0.0476, 0.5378, 0.9516, 0.2715],\n",
       "         [0.3062, 0.2178, 0.1702, 0.3884]],\n",
       "\n",
       "        [[0.6752, 0.0186, 0.5110, 0.4684],\n",
       "         [0.5379, 0.8035, 0.8501, 0.2432],\n",
       "         [0.1172, 0.7072, 0.3138, 0.2710]]])"
      ]
     },
     "execution_count": 12,
     "metadata": {},
     "output_type": "execute_result"
    }
   ],
   "source": [
    "#3d tensor with 2 channels, 3 rows, 4 columns\n",
    "threed = torch.rand(2, 3, 4)\n",
    "threed"
   ]
  },
  {
   "cell_type": "code",
   "execution_count": 14,
   "metadata": {},
   "outputs": [
    {
     "name": "stdout",
     "output_type": "stream",
     "text": [
      "tensor([[0.6230, 0.3997, 0.5821, 0.2578, 0.0476, 0.5378, 0.9516, 0.2715, 0.3062,\n",
      "         0.2178, 0.1702, 0.3884],\n",
      "        [0.6752, 0.0186, 0.5110, 0.4684, 0.5379, 0.8035, 0.8501, 0.2432, 0.1172,\n",
      "         0.7072, 0.3138, 0.2710]])\n",
      "tensor([[0.6230, 0.3997, 0.5821, 0.2578, 0.0476, 0.5378, 0.9516, 0.2715, 0.3062,\n",
      "         0.2178, 0.1702, 0.3884],\n",
      "        [0.6752, 0.0186, 0.5110, 0.4684, 0.5379, 0.8035, 0.8501, 0.2432, 0.1172,\n",
      "         0.7072, 0.3138, 0.2710]])\n"
     ]
    }
   ],
   "source": [
    "print(threed.view(2, 12))\n",
    "print(threed.view(2, -1))"
   ]
  },
  {
   "cell_type": "code",
   "execution_count": 16,
   "metadata": {},
   "outputs": [
    {
     "data": {
      "text/plain": [
       "tensor([[0.8113, 0.6624, 0.7536, 0.4114],\n",
       "        [0.5463, 0.1019, 0.5216, 0.2000],\n",
       "        [0.6077, 0.8920, 0.8944, 0.6291],\n",
       "        [0.0401, 0.6499, 0.5343, 0.9400]])"
      ]
     },
     "execution_count": 16,
     "metadata": {},
     "output_type": "execute_result"
    }
   ],
   "source": [
    "#Create a matrix with random numbers between 0 and 1\n",
    "r = torch.rand(4, 4)\n",
    "r"
   ]
  },
  {
   "cell_type": "code",
   "execution_count": 38,
   "metadata": {},
   "outputs": [
    {
     "data": {
      "text/plain": [
       "tensor([[-0.3805, -0.1179,  2.2641, -0.4277],\n",
       "        [-0.0887,  0.6032,  0.7002,  0.3291],\n",
       "        [ 0.2393,  0.2529, -1.1829,  0.4414],\n",
       "        [ 0.5899,  0.4774, -1.0860,  0.7273]])"
      ]
     },
     "execution_count": 38,
     "metadata": {},
     "output_type": "execute_result"
    }
   ],
   "source": [
    "#Create a matrix with random numbers taken from a normal distribution with mean 0 and variance 1\n",
    "r = torch.randn(4, 4)\n",
    "r"
   ]
  },
  {
   "cell_type": "code",
   "execution_count": 18,
   "metadata": {},
   "outputs": [
    {
     "data": {
      "text/plain": [
       "tensor([7, 7, 8, 8, 7])"
      ]
     },
     "execution_count": 18,
     "metadata": {},
     "output_type": "execute_result"
    }
   ],
   "source": [
    "intArray = torch.randint(6,10, (5,)) #between 6-9, 10 is exclusive\n",
    "intArray"
   ]
  },
  {
   "cell_type": "code",
   "execution_count": 20,
   "metadata": {},
   "outputs": [
    {
     "data": {
      "text/plain": [
       "tensor([[8, 9, 8],\n",
       "        [7, 8, 9],\n",
       "        [8, 9, 9]])"
      ]
     },
     "execution_count": 20,
     "metadata": {},
     "output_type": "execute_result"
    }
   ],
   "source": [
    "intTensor  = torch.randint(6,10,(3,3)) #2d tensor 3x3\n",
    "intTensor"
   ]
  },
  {
   "cell_type": "code",
   "execution_count": 21,
   "metadata": {},
   "outputs": [
    {
     "data": {
      "text/plain": [
       "(5, 9)"
      ]
     },
     "execution_count": 21,
     "metadata": {},
     "output_type": "execute_result"
    }
   ],
   "source": [
    "#Get the number of elements in a tensor\n",
    "torch.numel(intArray), torch.numel(intTensor)"
   ]
  },
  {
   "cell_type": "code",
   "execution_count": 22,
   "metadata": {},
   "outputs": [
    {
     "data": {
      "text/plain": [
       "tensor([[0, 0, 0],\n",
       "        [0, 0, 0],\n",
       "        [0, 0, 0]])"
      ]
     },
     "execution_count": 22,
     "metadata": {},
     "output_type": "execute_result"
    }
   ],
   "source": [
    "#3x3 matrix of zeros and dtype long\n",
    "z = torch.zeros(3, 3, dtype=torch.long)\n",
    "z"
   ]
  },
  {
   "cell_type": "code",
   "execution_count": 26,
   "metadata": {},
   "outputs": [
    {
     "data": {
      "text/plain": [
       "tensor([[1., 1., 1.],\n",
       "        [1., 1., 1.],\n",
       "        [1., 1., 1.]])"
      ]
     },
     "execution_count": 26,
     "metadata": {},
     "output_type": "execute_result"
    }
   ],
   "source": [
    "#3x3 matrix of zeros and dtype long\n",
    "x = torch.ones(3,3)\n",
    "x"
   ]
  },
  {
   "cell_type": "code",
   "execution_count": 31,
   "metadata": {},
   "outputs": [
    {
     "data": {
      "text/plain": [
       "tensor([[-0.9327,  0.0768, -0.6363,  1.5028],\n",
       "        [ 1.0130,  0.8971, -1.3920, -0.7901],\n",
       "        [ 0.6903, -0.1694,  0.1116, -0.3628],\n",
       "        [ 1.6210, -0.0413,  1.3438, -0.3676]], dtype=torch.float64)"
      ]
     },
     "execution_count": 31,
     "metadata": {},
     "output_type": "execute_result"
    }
   ],
   "source": [
    "rLike = torch.randn_like(r, dtype=torch.double) #get the shape of r\n",
    "rLike"
   ]
  },
  {
   "cell_type": "code",
   "execution_count": 40,
   "metadata": {},
   "outputs": [
    {
     "data": {
      "text/plain": [
       "tensor([[-1.3132, -0.0411,  1.6278,  1.0752],\n",
       "        [ 0.9242,  1.5003, -0.6919, -0.4610],\n",
       "        [ 0.9297,  0.0835, -1.0713,  0.0786],\n",
       "        [ 2.2109,  0.4362,  0.2578,  0.3597]], dtype=torch.float64)"
      ]
     },
     "execution_count": 40,
     "metadata": {},
     "output_type": "execute_result"
    }
   ],
   "source": [
    "#Addition\n",
    "r = r.type(torch.DoubleTensor) #casting in order to have the same type and allow addition\n",
    "#r = r.double() another way of casting\n",
    "sumatory = torch.add(r, rLike)\n",
    "sumatory"
   ]
  },
  {
   "cell_type": "code",
   "execution_count": 41,
   "metadata": {},
   "outputs": [
    {
     "data": {
      "text/plain": [
       "tensor([[-1.3132, -0.0411,  1.6278,  1.0752],\n",
       "        [ 0.9242,  1.5003, -0.6919, -0.4610],\n",
       "        [ 0.9297,  0.0835, -1.0713,  0.0786],\n",
       "        [ 2.2109,  0.4362,  0.2578,  0.3597]], dtype=torch.float64)"
      ]
     },
     "execution_count": 41,
     "metadata": {},
     "output_type": "execute_result"
    }
   ],
   "source": [
    "# in place addition\n",
    "rLike.add_(r)\n",
    "rLike"
   ]
  },
  {
   "cell_type": "code",
   "execution_count": null,
   "metadata": {},
   "outputs": [],
   "source": []
  }
 ],
 "metadata": {
  "kernelspec": {
   "display_name": "Python 3",
   "language": "python",
   "name": "python3"
  },
  "language_info": {
   "codemirror_mode": {
    "name": "ipython",
    "version": 3
   },
   "file_extension": ".py",
   "mimetype": "text/x-python",
   "name": "python",
   "nbconvert_exporter": "python",
   "pygments_lexer": "ipython3",
   "version": "3.7.3"
  }
 },
 "nbformat": 4,
 "nbformat_minor": 2
}
