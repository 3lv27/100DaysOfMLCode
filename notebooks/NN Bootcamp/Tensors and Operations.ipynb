{
 "cells": [
  {
   "cell_type": "code",
   "execution_count": 1,
   "metadata": {},
   "outputs": [],
   "source": [
    "import torch"
   ]
  },
  {
   "cell_type": "markdown",
   "metadata": {},
   "source": [
    "## Torch Tensors"
   ]
  },
  {
   "cell_type": "code",
   "execution_count": 2,
   "metadata": {},
   "outputs": [
    {
     "data": {
      "text/plain": [
       "tensor([2, 2, 1])"
      ]
     },
     "execution_count": 2,
     "metadata": {},
     "output_type": "execute_result"
    }
   ],
   "source": [
    "# 1D tensor\n",
    "a = torch.tensor([2,2,1])\n",
    "a"
   ]
  },
  {
   "cell_type": "code",
   "execution_count": 3,
   "metadata": {},
   "outputs": [
    {
     "data": {
      "text/plain": [
       "tensor([[2, 1, 4],\n",
       "        [3, 5, 4],\n",
       "        [1, 2, 0],\n",
       "        [4, 3, 2]])"
      ]
     },
     "execution_count": 3,
     "metadata": {},
     "output_type": "execute_result"
    }
   ],
   "source": [
    "# 2D tensor\n",
    "b = torch.tensor([[2,1,4], [3,5,4], [1,2,0], [4,3,2]])\n",
    "b"
   ]
  },
  {
   "cell_type": "code",
   "execution_count": 4,
   "metadata": {},
   "outputs": [
    {
     "name": "stdout",
     "output_type": "stream",
     "text": [
      "torch.Size([3])\n",
      "torch.Size([4, 3])\n",
      "torch.Size([3])\n",
      "torch.Size([4, 3])\n"
     ]
    }
   ],
   "source": [
    "print(a.shape)\n",
    "print(b.shape)\n",
    "print(a.size())\n",
    "print(b.size())"
   ]
  },
  {
   "cell_type": "code",
   "execution_count": 5,
   "metadata": {},
   "outputs": [
    {
     "data": {
      "text/plain": [
       "4"
      ]
     },
     "execution_count": 5,
     "metadata": {},
     "output_type": "execute_result"
    }
   ],
   "source": [
    "# num of rows\n",
    "b.shape[0]"
   ]
  },
  {
   "cell_type": "code",
   "execution_count": 6,
   "metadata": {},
   "outputs": [
    {
     "data": {
      "text/plain": [
       "(tensor([[2., 1., 4.],\n",
       "         [3., 5., 4.],\n",
       "         [1., 2., 0.],\n",
       "         [4., 3., 2.]]), torch.float32)"
      ]
     },
     "execution_count": 6,
     "metadata": {},
     "output_type": "execute_result"
    }
   ],
   "source": [
    "c = torch.FloatTensor([[2,1,4], [3,5,4], [1,2,0], [4,3,2]])\n",
    "c, c.dtype\n",
    "#we can also do\n",
    "#d = torch.tensor([[2,1,4], [3,5,4], [1,2,0], [4,3,2]], dtype = torch.float)"
   ]
  },
  {
   "cell_type": "code",
   "execution_count": 7,
   "metadata": {},
   "outputs": [
    {
     "data": {
      "text/plain": [
       "tensor([[2., 1., 4.],\n",
       "        [3., 5., 4.],\n",
       "        [1., 2., 0.],\n",
       "        [4., 3., 2.]], dtype=torch.float64)"
      ]
     },
     "execution_count": 7,
     "metadata": {},
     "output_type": "execute_result"
    }
   ],
   "source": [
    "d = torch.DoubleTensor([[2,1,4], [3,5,4], [1,2,0], [4,3,2]])\n",
    "d\n",
    "#we can also do\n",
    "#d = torch.tensor([[2,1,4], [3,5,4], [1,2,0], [4,3,2]], dtype = torch.double)"
   ]
  },
  {
   "cell_type": "code",
   "execution_count": 8,
   "metadata": {},
   "outputs": [
    {
     "name": "stdout",
     "output_type": "stream",
     "text": [
      "tensor(2.5833)\n",
      "tensor(2.5833, dtype=torch.float64)\n",
      "tensor(1.5050)\n",
      "tensor(1.5050, dtype=torch.float64)\n"
     ]
    }
   ],
   "source": [
    "print(c.mean())\n",
    "print(d.mean())\n",
    "print(c.std())\n",
    "print(d.std())"
   ]
  },
  {
   "cell_type": "code",
   "execution_count": 9,
   "metadata": {},
   "outputs": [
    {
     "name": "stdout",
     "output_type": "stream",
     "text": [
      "tensor([[2],\n",
      "        [1],\n",
      "        [4],\n",
      "        [3],\n",
      "        [5],\n",
      "        [4],\n",
      "        [1],\n",
      "        [2],\n",
      "        [0],\n",
      "        [4],\n",
      "        [3],\n",
      "        [2]])\n",
      "tensor([2, 1, 4, 3, 5, 4, 1, 2, 0, 4, 3, 2])\n",
      "tensor([[2, 1, 4, 3],\n",
      "        [5, 4, 1, 2],\n",
      "        [0, 4, 3, 2]])\n",
      "tensor([[2, 1, 4, 3],\n",
      "        [5, 4, 1, 2],\n",
      "        [0, 4, 3, 2]])\n",
      "tensor([[2, 1, 4, 3, 5, 4, 1, 2, 0, 4, 3, 2]])\n",
      "torch.Size([1, 12])\n"
     ]
    }
   ],
   "source": [
    "#Reshape b\n",
    "#Note: If one of the dimensions is -1, its size can be inferred\n",
    "print(b.view(-1,1))\n",
    "print(b.view(12)) \n",
    "\n",
    "print(b.view(-1,4))\n",
    "print(b.view(3,4)) #same thing as above\n",
    "\n",
    "#Assign b a new shape\n",
    "b = b.view(1,-1)\n",
    "print(b)\n",
    "print(b.shape)"
   ]
  },
  {
   "cell_type": "code",
   "execution_count": 10,
   "metadata": {},
   "outputs": [
    {
     "data": {
      "text/plain": [
       "tensor([[[0.4583, 0.6582, 0.6351, 0.0189],\n",
       "         [0.5085, 0.8258, 0.8858, 0.8252],\n",
       "         [0.4398, 0.2928, 0.5963, 0.9566]],\n",
       "\n",
       "        [[0.8780, 0.5735, 0.7549, 0.3723],\n",
       "         [0.6099, 0.1286, 0.1036, 0.2683],\n",
       "         [0.0506, 0.5551, 0.9716, 0.4214]]])"
      ]
     },
     "execution_count": 10,
     "metadata": {},
     "output_type": "execute_result"
    }
   ],
   "source": [
    "#3d tensor with 2 channels, 3 rows, 4 columns\n",
    "threed = torch.rand(2, 3, 4)\n",
    "threed"
   ]
  },
  {
   "cell_type": "code",
   "execution_count": 11,
   "metadata": {},
   "outputs": [
    {
     "name": "stdout",
     "output_type": "stream",
     "text": [
      "tensor([[0.4583, 0.6582, 0.6351, 0.0189, 0.5085, 0.8258, 0.8858, 0.8252, 0.4398,\n",
      "         0.2928, 0.5963, 0.9566],\n",
      "        [0.8780, 0.5735, 0.7549, 0.3723, 0.6099, 0.1286, 0.1036, 0.2683, 0.0506,\n",
      "         0.5551, 0.9716, 0.4214]])\n",
      "tensor([[0.4583, 0.6582, 0.6351, 0.0189, 0.5085, 0.8258, 0.8858, 0.8252, 0.4398,\n",
      "         0.2928, 0.5963, 0.9566],\n",
      "        [0.8780, 0.5735, 0.7549, 0.3723, 0.6099, 0.1286, 0.1036, 0.2683, 0.0506,\n",
      "         0.5551, 0.9716, 0.4214]])\n"
     ]
    }
   ],
   "source": [
    "print(threed.view(2, 12))\n",
    "print(threed.view(2, -1))"
   ]
  },
  {
   "cell_type": "code",
   "execution_count": 12,
   "metadata": {},
   "outputs": [
    {
     "data": {
      "text/plain": [
       "tensor([[0.0061, 0.7192, 0.3030, 0.2828],\n",
       "        [0.0905, 0.7110, 0.0824, 0.4572],\n",
       "        [0.1326, 0.5681, 0.2939, 0.0836],\n",
       "        [0.8965, 0.3797, 0.1460, 0.0222]])"
      ]
     },
     "execution_count": 12,
     "metadata": {},
     "output_type": "execute_result"
    }
   ],
   "source": [
    "#Create a matrix with random numbers between 0 and 1\n",
    "r = torch.rand(4, 4)\n",
    "r"
   ]
  },
  {
   "cell_type": "code",
   "execution_count": 13,
   "metadata": {},
   "outputs": [
    {
     "data": {
      "text/plain": [
       "tensor([[-0.7003,  0.8044, -1.8175, -1.5039],\n",
       "        [ 0.2127, -0.4002,  1.0963, -1.0475],\n",
       "        [-0.6466,  0.4417, -0.6247,  0.5303],\n",
       "        [ 0.6649,  1.1404, -0.1515, -1.8854]])"
      ]
     },
     "execution_count": 13,
     "metadata": {},
     "output_type": "execute_result"
    }
   ],
   "source": [
    "#Create a matrix with random numbers taken from a normal distribution with mean 0 and variance 1\n",
    "r = torch.randn(4, 4)\n",
    "r"
   ]
  },
  {
   "cell_type": "code",
   "execution_count": 14,
   "metadata": {},
   "outputs": [
    {
     "data": {
      "text/plain": [
       "tensor([7, 9, 8, 8, 8])"
      ]
     },
     "execution_count": 14,
     "metadata": {},
     "output_type": "execute_result"
    }
   ],
   "source": [
    "intArray = torch.randint(6,10, (5,)) #between 6-9, 10 is exclusive\n",
    "intArray"
   ]
  },
  {
   "cell_type": "code",
   "execution_count": 15,
   "metadata": {},
   "outputs": [
    {
     "data": {
      "text/plain": [
       "tensor([[9, 6, 9],\n",
       "        [6, 9, 6],\n",
       "        [6, 9, 6]])"
      ]
     },
     "execution_count": 15,
     "metadata": {},
     "output_type": "execute_result"
    }
   ],
   "source": [
    "intTensor  = torch.randint(6,10,(3,3)) #2d tensor 3x3\n",
    "intTensor"
   ]
  },
  {
   "cell_type": "code",
   "execution_count": 16,
   "metadata": {},
   "outputs": [
    {
     "data": {
      "text/plain": [
       "(5, 9)"
      ]
     },
     "execution_count": 16,
     "metadata": {},
     "output_type": "execute_result"
    }
   ],
   "source": [
    "#Get the number of elements in a tensor\n",
    "torch.numel(intArray), torch.numel(intTensor)"
   ]
  },
  {
   "cell_type": "code",
   "execution_count": 17,
   "metadata": {},
   "outputs": [
    {
     "data": {
      "text/plain": [
       "tensor([[0, 0, 0],\n",
       "        [0, 0, 0],\n",
       "        [0, 0, 0]])"
      ]
     },
     "execution_count": 17,
     "metadata": {},
     "output_type": "execute_result"
    }
   ],
   "source": [
    "#3x3 matrix of zeros and dtype long\n",
    "z = torch.zeros(3, 3, dtype=torch.long)\n",
    "z"
   ]
  },
  {
   "cell_type": "code",
   "execution_count": 18,
   "metadata": {},
   "outputs": [
    {
     "data": {
      "text/plain": [
       "tensor([[1., 1., 1.],\n",
       "        [1., 1., 1.],\n",
       "        [1., 1., 1.]])"
      ]
     },
     "execution_count": 18,
     "metadata": {},
     "output_type": "execute_result"
    }
   ],
   "source": [
    "#3x3 matrix of zeros and dtype long\n",
    "x = torch.ones(3,3)\n",
    "x"
   ]
  },
  {
   "cell_type": "code",
   "execution_count": 19,
   "metadata": {},
   "outputs": [
    {
     "data": {
      "text/plain": [
       "tensor([[-0.5141, -0.2497,  1.5027, -0.6339],\n",
       "        [-0.6122,  1.5297, -1.4059,  0.4259],\n",
       "        [-0.2453,  1.6736, -1.4996, -1.1938],\n",
       "        [-0.9354, -0.0240,  0.5453,  0.3008]], dtype=torch.float64)"
      ]
     },
     "execution_count": 19,
     "metadata": {},
     "output_type": "execute_result"
    }
   ],
   "source": [
    "rLike = torch.randn_like(r, dtype=torch.double) #get the shape of r\n",
    "rLike"
   ]
  },
  {
   "cell_type": "code",
   "execution_count": 20,
   "metadata": {},
   "outputs": [
    {
     "data": {
      "text/plain": [
       "tensor([[-1.2144,  0.5547, -0.3148, -2.1378],\n",
       "        [-0.3995,  1.1295, -0.3095, -0.6216],\n",
       "        [-0.8920,  2.1153, -2.1243, -0.6635],\n",
       "        [-0.2705,  1.1165,  0.3939, -1.5846]], dtype=torch.float64)"
      ]
     },
     "execution_count": 20,
     "metadata": {},
     "output_type": "execute_result"
    }
   ],
   "source": [
    "#Addition\n",
    "r = r.type(torch.DoubleTensor) #casting in order to have the same type and allow addition\n",
    "#r = r.double() another way of casting\n",
    "sumatory = torch.add(r, rLike)\n",
    "sumatory"
   ]
  },
  {
   "cell_type": "code",
   "execution_count": 21,
   "metadata": {},
   "outputs": [
    {
     "data": {
      "text/plain": [
       "tensor([[-1.2144,  0.5547, -0.3148, -2.1378],\n",
       "        [-0.3995,  1.1295, -0.3095, -0.6216],\n",
       "        [-0.8920,  2.1153, -2.1243, -0.6635],\n",
       "        [-0.2705,  1.1165,  0.3939, -1.5846]], dtype=torch.float64)"
      ]
     },
     "execution_count": 21,
     "metadata": {},
     "output_type": "execute_result"
    }
   ],
   "source": [
    "# in place addition\n",
    "rLike.add_(r)\n",
    "rLike"
   ]
  },
  {
   "cell_type": "markdown",
   "metadata": {},
   "source": [
    "## Numpy Bridge\n"
   ]
  },
  {
   "cell_type": "code",
   "execution_count": 22,
   "metadata": {},
   "outputs": [],
   "source": [
    "import numpy as np"
   ]
  },
  {
   "cell_type": "code",
   "execution_count": 23,
   "metadata": {},
   "outputs": [
    {
     "data": {
      "text/plain": [
       "(tensor([2., 2., 2., 2., 2.]), array([2., 2., 2., 2., 2.], dtype=float32))"
      ]
     },
     "execution_count": 23,
     "metadata": {},
     "output_type": "execute_result"
    }
   ],
   "source": [
    "# To numpy\n",
    "a = torch.ones(5)\n",
    "b = a.numpy()\n",
    "\n",
    "a.add_(1) #b also cahnges its value\n",
    "a, b"
   ]
  },
  {
   "cell_type": "code",
   "execution_count": 24,
   "metadata": {},
   "outputs": [
    {
     "data": {
      "text/plain": [
       "(array([2., 2., 2., 2., 2.]),\n",
       " tensor([2., 2., 2., 2., 2.], dtype=torch.float64))"
      ]
     },
     "execution_count": 24,
     "metadata": {},
     "output_type": "execute_result"
    }
   ],
   "source": [
    "#From numpy\n",
    "a = np.ones(5)\n",
    "b = torch.from_numpy(a)\n",
    "np.add(a, 1, out=a)\n",
    "a,b"
   ]
  },
  {
   "cell_type": "code",
   "execution_count": 26,
   "metadata": {},
   "outputs": [
    {
     "data": {
      "text/plain": [
       "tensor([[-1.2144,  0.5547, -0.3148, -2.1378],\n",
       "        [-0.3995,  1.1295, -0.3095, -0.6216],\n",
       "        [-0.8920,  2.1153, -2.1243, -0.6635],\n",
       "        [-0.2705,  1.1165,  0.3939, -1.5846]], dtype=torch.float64)"
      ]
     },
     "execution_count": 26,
     "metadata": {},
     "output_type": "execute_result"
    }
   ],
   "source": [
    "#Move the tensor to the GPU\n",
    "# rLike = rLike.cuda()\n",
    "rLike"
   ]
  },
  {
   "cell_type": "code",
   "execution_count": 27,
   "metadata": {},
   "outputs": [
    {
     "name": "stdout",
     "output_type": "stream",
     "text": [
      "False\n",
      "No cuda available\n"
     ]
    }
   ],
   "source": [
    "#Provide Easy switching between CPU and GPU\n",
    "CUDA = torch.cuda.is_available()\n",
    "print(CUDA)\n",
    "if CUDA:\n",
    "    add_result = add_result.cuda()\n",
    "    print(add_result)\n",
    "else: \n",
    "    print('No cuda available')"
   ]
  },
  {
   "cell_type": "code",
   "execution_count": 28,
   "metadata": {},
   "outputs": [
    {
     "name": "stdout",
     "output_type": "stream",
     "text": [
      "[2, 3, 4, 1]\n",
      "tensor([2, 3, 4, 1]) torch.int64\n"
     ]
    }
   ],
   "source": [
    "#from a list to a tensor\n",
    "a = [2,3,4,1]\n",
    "print(a)\n",
    "fromArray = torch.tensor(a)\n",
    "print(fromArray, fromArray.dtype)"
   ]
  },
  {
   "cell_type": "code",
   "execution_count": 29,
   "metadata": {},
   "outputs": [
    {
     "name": "stdout",
     "output_type": "stream",
     "text": [
      "tensor([[1., 2.],\n",
      "        [3., 4.],\n",
      "        [5., 6.],\n",
      "        [7., 8.]]) torch.float32\n"
     ]
    }
   ],
   "source": [
    "data =  [[1., 2.], [3., 4.],\n",
    "         [5., 6.], [7., 8.]]\n",
    "T = torch.tensor(data)\n",
    "print(T, T.dtype)"
   ]
  },
  {
   "cell_type": "markdown",
   "metadata": {},
   "source": [
    "## Tensor concatenation"
   ]
  },
  {
   "cell_type": "code",
   "execution_count": 30,
   "metadata": {},
   "outputs": [
    {
     "name": "stdout",
     "output_type": "stream",
     "text": [
      "tensor([[-0.1281,  0.2077,  0.6434,  0.6092,  1.3423],\n",
      "        [ 0.5345, -0.0911, -0.6377, -0.4607, -1.2709]])\n",
      "tensor([[ 0.2101, -0.5845,  0.9153,  0.3139,  0.2874],\n",
      "        [-0.9421, -0.2007, -0.2877, -0.2076,  0.7694],\n",
      "        [ 1.2775, -0.4498, -0.6096, -1.2207, -0.2722]])\n"
     ]
    }
   ],
   "source": [
    "#Tensor Concatenation \n",
    "first1 = torch.randn(2, 5)\n",
    "print(first1)\n",
    "second1 = torch.randn(3, 5)\n",
    "print(second1)\n"
   ]
  },
  {
   "cell_type": "code",
   "execution_count": 31,
   "metadata": {},
   "outputs": [
    {
     "name": "stdout",
     "output_type": "stream",
     "text": [
      "\n",
      "\n",
      "tensor([[-0.1281,  0.2077,  0.6434,  0.6092,  1.3423],\n",
      "        [ 0.5345, -0.0911, -0.6377, -0.4607, -1.2709],\n",
      "        [ 0.2101, -0.5845,  0.9153,  0.3139,  0.2874],\n",
      "        [-0.9421, -0.2007, -0.2877, -0.2076,  0.7694],\n",
      "        [ 1.2775, -0.4498, -0.6096, -1.2207, -0.2722]])\n",
      "\n",
      "\n",
      "tensor([[ 0.8298,  0.3479,  0.9725],\n",
      "        [ 0.6477, -0.8658,  0.8393]])\n",
      "tensor([[ 0.4023,  1.5527, -2.1489,  0.0634, -0.5032],\n",
      "        [ 1.1149, -0.8999, -0.0811, -0.5231,  0.5241]])\n",
      "\n",
      "\n",
      "tensor([[ 0.8298,  0.3479,  0.9725,  0.4023,  1.5527, -2.1489,  0.0634, -0.5032],\n",
      "        [ 0.6477, -0.8658,  0.8393,  1.1149, -0.8999, -0.0811, -0.5231,  0.5241]])\n",
      "\n",
      "\n"
     ]
    }
   ],
   "source": [
    "#Concatenate along the 0 dimension (rows)\n",
    "con1 = torch.cat([first1, second1])\n",
    "print('\\n')\n",
    "print(con1)\n",
    "print('\\n')\n",
    "first2 = torch.randn(2, 3)\n",
    "print(first2)\n",
    "second2 = torch.randn(2, 5)\n",
    "print(second2)\n",
    "# Concatenate along the 1 dimension (concatenate columns)\n",
    "con2 = torch.cat([first2, second2], 1)\n",
    "print('\\n')\n",
    "print(con2)\n",
    "print('\\n')"
   ]
  },
  {
   "cell_type": "markdown",
   "metadata": {},
   "source": [
    "## Adding Dimensions to Tensors"
   ]
  },
  {
   "cell_type": "code",
   "execution_count": 32,
   "metadata": {},
   "outputs": [
    {
     "name": "stdout",
     "output_type": "stream",
     "text": [
      "tensor([[1, 2, 3, 4]])\n",
      "torch.Size([1, 4])\n"
     ]
    }
   ],
   "source": [
    "#Adds a dimension of 1 along a specified index\n",
    "tensor1 = torch.tensor([1, 2, 3, 4])\n",
    "tensorA = torch.unsqueeze(tensor1, 0)\n",
    "print(tensorA)\n",
    "print(tensorA.shape)"
   ]
  },
  {
   "cell_type": "code",
   "execution_count": 34,
   "metadata": {},
   "outputs": [
    {
     "name": "stdout",
     "output_type": "stream",
     "text": [
      "tensor([[1],\n",
      "        [2],\n",
      "        [3],\n",
      "        [4]])\n",
      "torch.Size([4, 1])\n",
      "\n",
      "\n",
      "tensor([[[0.7503, 0.6470, 0.6022, 0.6643],\n",
      "         [0.2370, 0.0158, 0.4806, 0.2258],\n",
      "         [0.5205, 0.3667, 0.1339, 0.6370]],\n",
      "\n",
      "        [[0.5282, 0.9249, 0.4414, 0.4359],\n",
      "         [0.1719, 0.5890, 0.9490, 0.9444],\n",
      "         [0.3175, 0.0595, 0.1820, 0.8959]]])\n",
      "\n",
      "\n",
      "tensor([[0.6022, 0.4806, 0.1339],\n",
      "        [0.4414, 0.9490, 0.1820]])\n",
      "torch.Size([2, 3])\n",
      "\n",
      "\n",
      "tensor([[[0.6022],\n",
      "         [0.4806],\n",
      "         [0.1339]],\n",
      "\n",
      "        [[0.4414],\n",
      "         [0.9490],\n",
      "         [0.1820]]])\n",
      "torch.Size([2, 3, 1])\n"
     ]
    }
   ],
   "source": [
    "tensorB = torch.unsqueeze(tensor1,1)\n",
    "print(tensorB)\n",
    "print(tensorB.shape)\n",
    "print('\\n')\n",
    "tensor2 = torch.rand(2,3,4)\n",
    "print(tensor2)\n",
    "print('\\n')\n",
    "tensorC = tensor2[:,:,2]\n",
    "print(tensorC)\n",
    "print(tensorC.shape)\n",
    "print('\\n')\n",
    "tensorD = torch.unsqueeze(tensorC,2)\n",
    "print(tensorD)\n",
    "print(tensorD.shape)"
   ]
  },
  {
   "cell_type": "markdown",
   "metadata": {},
   "source": [
    "## Autograd"
   ]
  },
  {
   "cell_type": "code",
   "execution_count": 35,
   "metadata": {},
   "outputs": [
    {
     "name": "stdout",
     "output_type": "stream",
     "text": [
      "tensor([5., 7., 9.], grad_fn=<AddBackward0>)\n",
      "<AddBackward0 object at 0x11ce624a8>\n"
     ]
    }
   ],
   "source": [
    "#If requires_grad=True, the Tensor object keeps track of how it was created.\n",
    "x = torch.tensor([1., 2., 3], requires_grad=True)\n",
    "y = torch.tensor([4., 5., 6], requires_grad=True)\n",
    "#Since both x and y have their required_grad set to true, therefore we can compute gradients with respect to them\n",
    "z = x + y\n",
    "print(z)\n",
    "# z knows that is was created as a result of addition of x and y. It knows that it wasn't read in from a file\n",
    "print(z.grad_fn)"
   ]
  },
  {
   "cell_type": "code",
   "execution_count": 36,
   "metadata": {},
   "outputs": [
    {
     "name": "stdout",
     "output_type": "stream",
     "text": [
      "tensor(21., grad_fn=<SumBackward0>)\n",
      "<SumBackward0 object at 0x11ce62278>\n"
     ]
    }
   ],
   "source": [
    "s = z.sum()\n",
    "print(s)\n",
    "print(s.grad_fn)"
   ]
  },
  {
   "cell_type": "code",
   "execution_count": 37,
   "metadata": {},
   "outputs": [
    {
     "name": "stdout",
     "output_type": "stream",
     "text": [
      "tensor([1., 1., 1.])\n"
     ]
    }
   ],
   "source": [
    "#Now if we backpropagate on s, we can find the gradients of s with respect to x\n",
    "s.backward()\n",
    "print(x.grad)"
   ]
  },
  {
   "cell_type": "code",
   "execution_count": 38,
   "metadata": {},
   "outputs": [
    {
     "name": "stdout",
     "output_type": "stream",
     "text": [
      "False False\n",
      "None\n",
      "<AddBackward0 object at 0x11ce2b2b0>\n",
      "True\n"
     ]
    }
   ],
   "source": [
    "# By default, Tensors have `requires_grad=False`\n",
    "x = torch.randn(2, 2)\n",
    "y = torch.randn(2, 2)\n",
    "print(x.requires_grad, y.requires_grad)\n",
    "z = x + y\n",
    "# So you can't backprop through z\n",
    "print(z.grad_fn)\n",
    "#Another way to set the requires_grad = True is\n",
    "x.requires_grad_()\n",
    "y.requires_grad_()\n",
    "# z contains enough information to compute gradients, as we saw above\n",
    "z = x + y\n",
    "print(z.grad_fn)\n",
    "# If any input to an operation has ``requires_grad=True``, so will the output\n",
    "print(z.requires_grad)\n",
    "# Now z has the computation history that relates itself to x and y\n"
   ]
  },
  {
   "cell_type": "code",
   "execution_count": 39,
   "metadata": {},
   "outputs": [
    {
     "name": "stdout",
     "output_type": "stream",
     "text": [
      "None\n",
      "True\n",
      "True\n",
      "False\n"
     ]
    }
   ],
   "source": [
    "new_z = z.detach()\n",
    "print(new_z.grad_fn)\n",
    "# z.detach() returns a tensor that shares the same storage as ``z``, but with the computation history forgotten. \n",
    "#It doesn't know anything about how it was computed.In other words, we have broken the Tensor away from its past history\n",
    "\n",
    "#You can also stop autograd from tracking history on Tensors. This concept is useful when applying Transfer Learning \n",
    "print(x.requires_grad)\n",
    "print((x+10).requires_grad)\n",
    "\n",
    "with torch.no_grad():\n",
    "    print((x+10).requires_grad)"
   ]
  },
  {
   "cell_type": "code",
   "execution_count": 40,
   "metadata": {},
   "outputs": [
    {
     "name": "stdout",
     "output_type": "stream",
     "text": [
      "tensor([[1., 1.],\n",
      "        [1., 1.]], requires_grad=True)\n",
      "tensor([[3., 3.],\n",
      "        [3., 3.]], grad_fn=<AddBackward0>)\n",
      "<AddBackward0 object at 0x11ce31d30>\n",
      "tensor([[27., 27.],\n",
      "        [27., 27.]], grad_fn=<MulBackward0>) tensor(27., grad_fn=<MeanBackward1>)\n",
      "tensor([[4.5000, 4.5000],\n",
      "        [4.5000, 4.5000]])\n"
     ]
    }
   ],
   "source": [
    "x = torch.ones(2, 2, requires_grad=True)\n",
    "print(x)\n",
    "y = x + 2\n",
    "print(y)\n",
    "print(y.grad_fn)\n",
    "z = y * y * 3\n",
    "out = z.mean()\n",
    "print(z, out)\n",
    "out.backward()\n",
    "print(x.grad)"
   ]
  },
  {
   "cell_type": "code",
   "execution_count": 41,
   "metadata": {},
   "outputs": [
    {
     "name": "stdout",
     "output_type": "stream",
     "text": [
      "tensor([[0., 0., 0., 0., 0.],\n",
      "        [0., 0., 0., 0., 0.],\n",
      "        [0., 0., 0., 0., 0.],\n",
      "        [0., 0., 0., 0., 0.],\n",
      "        [0., 0., 0., 0., 0.]])\n",
      "tensor([[0., 0., 0., 0., 0.],\n",
      "        [0., 0., 0., 0., 0.],\n",
      "        [0., 0., 0., 0., 0.],\n",
      "        [0., 0., 0., 0., 0.],\n",
      "        [0., 0., 0., 0., 0.]])\n"
     ]
    }
   ],
   "source": [
    "m1 = torch.ones(5,5)\n",
    "m2 = torch.zeros(5,5)\n",
    "#Perform element-wise multiplaction \n",
    "mul = torch.mul(m1,m2)\n",
    "#Another way to perform element-wise multiplaction \n",
    "mul_another = m1*m2\n",
    "print(mul)\n",
    "print(mul_another)"
   ]
  },
  {
   "cell_type": "code",
   "execution_count": null,
   "metadata": {},
   "outputs": [],
   "source": []
  }
 ],
 "metadata": {
  "kernelspec": {
   "display_name": "Python 3",
   "language": "python",
   "name": "python3"
  },
  "language_info": {
   "codemirror_mode": {
    "name": "ipython",
    "version": 2
   },
   "file_extension": ".py",
   "mimetype": "text/x-python",
   "name": "python",
   "nbconvert_exporter": "python",
   "pygments_lexer": "ipython2",
   "version": "2.7.15"
  }
 },
 "nbformat": 4,
 "nbformat_minor": 2
}
