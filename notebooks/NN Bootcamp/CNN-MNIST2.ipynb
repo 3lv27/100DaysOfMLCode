{
 "cells": [
  {
   "cell_type": "code",
   "execution_count": 1,
   "metadata": {},
   "outputs": [],
   "source": [
    "import torch\n",
    "import torch.nn as nn\n",
    "import torchvision.transforms as transforms\n",
    "import torchvision.datasets as datasets\n",
    "from torch.autograd import Variable"
   ]
  },
  {
   "cell_type": "code",
   "execution_count": 2,
   "metadata": {},
   "outputs": [
    {
     "name": "stderr",
     "output_type": "stream",
     "text": [
      "\r",
      "0it [00:00, ?it/s]"
     ]
    },
    {
     "name": "stdout",
     "output_type": "stream",
     "text": [
      "Downloading http://yann.lecun.com/exdb/mnist/train-images-idx3-ubyte.gz to ./.dataset/MNIST/raw/train-images-idx3-ubyte.gz\n"
     ]
    },
    {
     "name": "stderr",
     "output_type": "stream",
     "text": [
      "9920512it [00:06, 1645185.17it/s]                             \n"
     ]
    },
    {
     "name": "stdout",
     "output_type": "stream",
     "text": [
      "Extracting ./.dataset/MNIST/raw/train-images-idx3-ubyte.gz\n"
     ]
    },
    {
     "name": "stderr",
     "output_type": "stream",
     "text": [
      "\r",
      "0it [00:00, ?it/s]"
     ]
    },
    {
     "name": "stdout",
     "output_type": "stream",
     "text": [
      "Downloading http://yann.lecun.com/exdb/mnist/train-labels-idx1-ubyte.gz to ./.dataset/MNIST/raw/train-labels-idx1-ubyte.gz\n"
     ]
    },
    {
     "name": "stderr",
     "output_type": "stream",
     "text": [
      "32768it [00:00, 96260.33it/s]                            \n",
      "0it [00:00, ?it/s]"
     ]
    },
    {
     "name": "stdout",
     "output_type": "stream",
     "text": [
      "Extracting ./.dataset/MNIST/raw/train-labels-idx1-ubyte.gz\n",
      "Downloading http://yann.lecun.com/exdb/mnist/t10k-images-idx3-ubyte.gz to ./.dataset/MNIST/raw/t10k-images-idx3-ubyte.gz\n"
     ]
    },
    {
     "name": "stderr",
     "output_type": "stream",
     "text": [
      "1654784it [00:02, 646970.14it/s]                              \n",
      "0it [00:00, ?it/s]"
     ]
    },
    {
     "name": "stdout",
     "output_type": "stream",
     "text": [
      "Extracting ./.dataset/MNIST/raw/t10k-images-idx3-ubyte.gz\n",
      "Downloading http://yann.lecun.com/exdb/mnist/t10k-labels-idx1-ubyte.gz to ./.dataset/MNIST/raw/t10k-labels-idx1-ubyte.gz\n"
     ]
    },
    {
     "name": "stderr",
     "output_type": "stream",
     "text": [
      "8192it [00:00, 36707.28it/s]            "
     ]
    },
    {
     "name": "stdout",
     "output_type": "stream",
     "text": [
      "Extracting ./.dataset/MNIST/raw/t10k-labels-idx1-ubyte.gz\n",
      "Processing...\n",
      "Done!\n"
     ]
    },
    {
     "name": "stderr",
     "output_type": "stream",
     "text": [
      "\n"
     ]
    }
   ],
   "source": [
    "# Specify the Mean and standard deviation of all the pixels in the MNIST dataset. They are precomputed \n",
    "meanGray = 0.1307\n",
    "stdGray = 0.3081\n",
    "\n",
    "#Transform the images to tensors\n",
    "#Normalize a tensor image with mean and standard deviation. Given mean: (M1,...,Mn) and std: (S1,..,Sn) \n",
    "#for n channels, this transform will normalize each channel of the input torch.Tensor\n",
    "#i.e. input[channel] = (input[channel] - mean[channel]) / std[channel]\n",
    "transforms = transforms.Compose([transforms.ToTensor(), transforms.Normalize((meanGray,), (stdGray,))])\n",
    "\n",
    "#Load our dataset\n",
    "trainDs = datasets.MNIST(root = './.dataset', train = True, transform = transforms, download = True)\n",
    "\n",
    "testDs = datasets.MNIST(root = './.dataset',  train = False, transform = transforms)\n"
   ]
  },
  {
   "cell_type": "code",
   "execution_count": 5,
   "metadata": {},
   "outputs": [
    {
     "data": {
      "text/plain": [
       "<matplotlib.image.AxesImage at 0x11be737b8>"
      ]
     },
     "execution_count": 5,
     "metadata": {},
     "output_type": "execute_result"
    },
    {
     "data": {
      "image/png": "[encoded data removed]",
      "text/plain": [
       "<Figure size 432x288 with 1 Axes>"
      ]
     },
     "metadata": {
      "needs_background": "light"
     },
     "output_type": "display_data"
    }
   ],
   "source": [
    "import matplotlib.pyplot as plt\n",
    "randomImage = trainDs[20][0].numpy() * stdGray + meanGray\n",
    "plt.imshow(randomImage.reshape(28, 28), cmap='gray')"
   ]
  },
  {
   "cell_type": "code",
   "execution_count": 9,
   "metadata": {},
   "outputs": [
    {
     "data": {
      "text/plain": [
       "4"
      ]
     },
     "execution_count": 9,
     "metadata": {},
     "output_type": "execute_result"
    }
   ],
   "source": [
    "trainDs[20][1]   #Print the corresponding label for the image\n"
   ]
  },
  {
   "cell_type": "code",
   "execution_count": 10,
   "metadata": {},
   "outputs": [],
   "source": [
    "bs = 100\n",
    "epochs = 10"
   ]
  },
  {
   "cell_type": "code",
   "execution_count": 11,
   "metadata": {},
   "outputs": [],
   "source": [
    "#Make the dataset iterable\n",
    "trainLoader = torch.utils.data.DataLoader(dataset = trainDs, \n",
    "                                         batch_size = bs,\n",
    "                                         shuffle = True)\n",
    "\n",
    "testLoader = torch.utils.data.DataLoader(dataset = testDs, \n",
    "                                         batch_size = bs,\n",
    "                                         shuffle = False)"
   ]
  },
  {
   "cell_type": "code",
   "execution_count": 12,
   "metadata": {},
   "outputs": [
    {
     "name": "stdout",
     "output_type": "stream",
     "text": [
      "There are 60000 images in the training set\n",
      "There are 10000 images in the test set\n",
      "There are 600 batches in the train loader\n",
      "There are 100 batches in the testloader\n"
     ]
    }
   ],
   "source": [
    "\n",
    "print('There are {} images in the training set'.format(len(trainDs)))\n",
    "print('There are {} images in the test set'.format(len(testDs)))\n",
    "print('There are {} batches in the train loader'.format(len(trainLoader)))\n",
    "print('There are {} batches in the testloader'.format(len(testLoader)))"
   ]
  },
  {
   "cell_type": "code",
   "execution_count": 13,
   "metadata": {},
   "outputs": [],
   "source": [
    "#Create the model class\n",
    "class CNN(nn.Module):\n",
    "    def __init__(self):\n",
    "        super(CNN,self).__init__()\n",
    "        #Same Padding = [(filter size - 1) / 2] (Same Padding--> input size = output size)\n",
    "        self.cnn1 = nn.Conv2d(in_channels=1, out_channels=8, kernel_size=3,stride=1, padding=1)\n",
    "        #The output size of each of the 8 feature maps is \n",
    "        #[(input_size - filter_size + 2(padding) / stride) +1] --> [(28-3+2(1)/1)+1] = 28 (padding type is same)\n",
    "        #Batch normalization\n",
    "        self.batchnorm1 = nn.BatchNorm2d(8)\n",
    "        #RELU\n",
    "        self.relu = nn.ReLU()\n",
    "        self.maxpool1 = nn.MaxPool2d(kernel_size=2)\n",
    "        #After max pooling, the output of each feature map is now 28/2 = 14\n",
    "        self.cnn2 = nn.Conv2d(in_channels=8, out_channels=32, kernel_size=5, stride=1, padding=2)\n",
    "        #Output size of each of the 32 feature maps remains 14\n",
    "        self.batchnorm2 = nn.BatchNorm2d(32)\n",
    "        self.maxpool2 = nn.MaxPool2d(kernel_size=2)\n",
    "        #After max pooling, the output of each feature map is 14/2 = 7\n",
    "        #Flatten the feature maps. You have 32 feature maps, each of them is of size 7x7 --> 32*7*7 = 1568\n",
    "        self.fc1 = nn.Linear(in_features=1568, out_features=600)\n",
    "        self.droput = nn.Dropout(p=0.5)\n",
    "        self.fc2 = nn.Linear(in_features=600, out_features=10)\n",
    "    def forward(self,x):\n",
    "        out = self.cnn1(x)\n",
    "        out = self.batchnorm1(out)\n",
    "        out = self.relu(out)\n",
    "        out = self.maxpool1(out)\n",
    "        out = self.cnn2(out)\n",
    "        out = self.batchnorm2(out)\n",
    "        out = self.relu(out)\n",
    "        out = self.maxpool2(out)\n",
    "        #Now we have to flatten the output. This is where we apply the feed forward neural network as learned before! \n",
    "        #It will take the shape (batch_size, 1568) = (100, 1568)\n",
    "        out = out.view(-1,1568)\n",
    "        #Then we forward through our fully connected layer \n",
    "        out = self.fc1(out)\n",
    "        out = self.relu(out)\n",
    "        out = self.droput(out)\n",
    "        out = self.fc2(out)\n",
    "        return out"
   ]
  },
  {
   "cell_type": "code",
   "execution_count": 14,
   "metadata": {},
   "outputs": [],
   "source": [
    "model = CNN()\n",
    "CUDA = torch.cuda.is_available()\n",
    "if CUDA:\n",
    "    model = model.cuda()    \n",
    "lossFn = nn.CrossEntropyLoss()        \n",
    "optimizer = torch.optim.SGD(model.parameters(), lr = 0.01)"
   ]
  },
  {
   "cell_type": "code",
   "execution_count": 17,
   "metadata": {},
   "outputs": [
    {
     "name": "stdout",
     "output_type": "stream",
     "text": [
      "For one iteration, this is what happens:\n",
      "Input Shape: torch.Size([100, 1, 28, 28])\n",
      "Labels Shape: torch.Size([100])\n",
      "Outputs Shape torch.Size([100, 10])\n",
      "Predicted Shape torch.Size([100])\n",
      "Predicted Tensor:\n",
      "tensor([7, 8, 6, 5, 1, 6, 0, 4, 5, 8, 6, 0, 7, 6, 6, 7, 7, 7, 6, 7, 8, 6, 5, 8,\n",
      "        7, 8, 8, 2, 8, 5, 2, 5, 7, 6, 8, 8, 6, 9, 1, 2, 2, 7, 8, 7, 6, 6, 7, 8,\n",
      "        9, 2, 0, 7, 9, 6, 1, 7, 8, 6, 6, 6, 2, 2, 6, 8, 2, 6, 6, 6, 7, 7, 7, 2,\n",
      "        8, 6, 6, 2, 9, 1, 2, 6, 6, 1, 8, 5, 8, 6, 1, 7, 7, 8, 1, 9, 8, 6, 2, 2,\n",
      "        7, 7, 6, 2])\n",
      "Correct Predictions: tensor(10)\n"
     ]
    }
   ],
   "source": [
    "#Understand what's happening\n",
    "iteration = 0\n",
    "correctData = 0\n",
    "for i,(inputs,labels) in enumerate (trainLoader):\n",
    "    if iteration==1:\n",
    "        break\n",
    "    inputs = Variable(inputs)\n",
    "    labels = Variable(labels)\n",
    "    if CUDA:\n",
    "        inputs = inputs.cuda()\n",
    "        labels = labels.cuda()\n",
    "    print(\"For one iteration, this is what happens:\")\n",
    "    print(\"Input Shape:\",inputs.shape)\n",
    "    print(\"Labels Shape:\",labels.shape)\n",
    "    output = model(inputs)\n",
    "    print(\"Outputs Shape\",output.shape)\n",
    "    _, predictedNoData = torch.max(output, 1)\n",
    "    print(\"Predicted Shape\",predictedNoData.shape)\n",
    "    print(\"Predicted Tensor:\")\n",
    "    print(predictedNoData)\n",
    "    _, predictedData = torch.max(output.data, 1) #output.data === output\n",
    "    correctData += (predictedData == labels.data).sum()\n",
    "    print(\"Correct Predictions:\",correctData)\n",
    "    \n",
    "\n",
    "    iteration += 1"
   ]
  },
  {
   "cell_type": "code",
   "execution_count": 19,
   "metadata": {},
   "outputs": [
    {
     "name": "stdout",
     "output_type": "stream",
     "text": [
      "Epoch 1/25, Training Loss: 0.615, Training Accuracy: 85.000, Testing Loss: 0.005, Testing Acc: 95.000\n",
      "Epoch 2/25, Training Loss: 0.186, Training Accuracy: 94.000, Testing Loss: 0.003, Testing Acc: 96.000\n",
      "Epoch 3/25, Training Loss: 0.138, Training Accuracy: 96.000, Testing Loss: 0.003, Testing Acc: 97.000\n",
      "Epoch 4/25, Training Loss: 0.114, Training Accuracy: 96.000, Testing Loss: 0.002, Testing Acc: 97.000\n",
      "Epoch 5/25, Training Loss: 0.098, Training Accuracy: 97.000, Testing Loss: 0.002, Testing Acc: 97.000\n",
      "Epoch 6/25, Training Loss: 0.086, Training Accuracy: 97.000, Testing Loss: 0.001, Testing Acc: 98.000\n",
      "Epoch 7/25, Training Loss: 0.078, Training Accuracy: 97.000, Testing Loss: 0.001, Testing Acc: 98.000\n",
      "Epoch 8/25, Training Loss: 0.072, Training Accuracy: 97.000, Testing Loss: 0.001, Testing Acc: 98.000\n",
      "Epoch 9/25, Training Loss: 0.067, Training Accuracy: 98.000, Testing Loss: 0.001, Testing Acc: 98.000\n",
      "Epoch 10/25, Training Loss: 0.063, Training Accuracy: 98.000, Testing Loss: 0.001, Testing Acc: 98.000\n",
      "Epoch 11/25, Training Loss: 0.058, Training Accuracy: 98.000, Testing Loss: 0.001, Testing Acc: 98.000\n",
      "Epoch 12/25, Training Loss: 0.056, Training Accuracy: 98.000, Testing Loss: 0.001, Testing Acc: 98.000\n",
      "Epoch 13/25, Training Loss: 0.051, Training Accuracy: 98.000, Testing Loss: 0.001, Testing Acc: 98.000\n",
      "Epoch 14/25, Training Loss: 0.049, Training Accuracy: 98.000, Testing Loss: 0.001, Testing Acc: 98.000\n",
      "Epoch 15/25, Training Loss: 0.047, Training Accuracy: 98.000, Testing Loss: 0.001, Testing Acc: 98.000\n",
      "Epoch 16/25, Training Loss: 0.044, Training Accuracy: 98.000, Testing Loss: 0.001, Testing Acc: 98.000\n",
      "Epoch 17/25, Training Loss: 0.042, Training Accuracy: 98.000, Testing Loss: 0.001, Testing Acc: 98.000\n",
      "Epoch 18/25, Training Loss: 0.041, Training Accuracy: 98.000, Testing Loss: 0.001, Testing Acc: 98.000\n",
      "Epoch 19/25, Training Loss: 0.039, Training Accuracy: 98.000, Testing Loss: 0.000, Testing Acc: 98.000\n",
      "Epoch 20/25, Training Loss: 0.038, Training Accuracy: 98.000, Testing Loss: 0.000, Testing Acc: 98.000\n",
      "Epoch 21/25, Training Loss: 0.036, Training Accuracy: 98.000, Testing Loss: 0.000, Testing Acc: 98.000\n",
      "Epoch 22/25, Training Loss: 0.035, Training Accuracy: 98.000, Testing Loss: 0.000, Testing Acc: 98.000\n",
      "Epoch 23/25, Training Loss: 0.033, Training Accuracy: 98.000, Testing Loss: 0.000, Testing Acc: 98.000\n",
      "Epoch 24/25, Training Loss: 0.032, Training Accuracy: 99.000, Testing Loss: 0.000, Testing Acc: 99.000\n",
      "Epoch 25/25, Training Loss: 0.032, Training Accuracy: 99.000, Testing Loss: 0.000, Testing Acc: 99.000\n"
     ]
    }
   ],
   "source": [
    "#Training the CNN\n",
    "numOfEpochs = 25\n",
    "\n",
    "#Define the lists to store the results of loss and accuracy in order to plt them later\n",
    "trainLoss = []\n",
    "testLoss = []\n",
    "trainAccuracy = []\n",
    "testAccuracy = []\n",
    "\n",
    "#Training\n",
    "for epoch in range(numOfEpochs): \n",
    "    #Reset these below variables to 0 at the begining of every epoch\n",
    "    correct = 0\n",
    "    iterations = 0\n",
    "    iterLoss = 0.0\n",
    "    \n",
    "    model.train()                   # Put the network into training mode\n",
    "    \n",
    "    for i, (inputs, labels) in enumerate(trainLoader):\n",
    "        \n",
    "        # Convert torch tensor to Variable\n",
    "        inputs = Variable(inputs)\n",
    "        labels = Variable(labels)\n",
    "        \n",
    "        # If we have GPU, shift the data to GPU\n",
    "        CUDA = torch.cuda.is_available()\n",
    "        if CUDA:\n",
    "            inputs = inputs.cuda()\n",
    "            labels = labels.cuda()\n",
    "        \n",
    "        optimizer.zero_grad()            # Clear off the gradient in (w = w - gradient)\n",
    "        outputs = model(inputs)         \n",
    "        loss = lossFn(outputs, labels)  \n",
    "        iterLoss += loss.item()         # Accumulate the loss\n",
    "        loss.backward()                 # Backpropagation \n",
    "        optimizer.step()                # Update the weights\n",
    "        \n",
    "        # Record the correct predictions for training data \n",
    "        _, predicted = torch.max(outputs, 1)\n",
    "        correct += (predicted == labels).sum()\n",
    "        iterations += 1\n",
    "    \n",
    "    # Record the training loss\n",
    "    trainLoss.append(iterLoss/iterations)\n",
    "    # Record the training accuracy\n",
    "    trainAccuracy.append((100 * correct / len(trainDs)))\n",
    "\n",
    "    #Testing\n",
    "    loss = 0.0\n",
    "    correct = 0\n",
    "    iterations = 0\n",
    "\n",
    "    model.eval()                    # Put the network into evaluation mode\n",
    "    \n",
    "    for i, (inputs, labels) in enumerate(testLoader):\n",
    "        \n",
    "        # Convert torch tensor to Variable\n",
    "        inputs = Variable(inputs)\n",
    "        labels = Variable(labels)\n",
    "        \n",
    "        CUDA = torch.cuda.is_available()\n",
    "        if CUDA:\n",
    "            inputs = inputs.cuda()\n",
    "            labels = labels.cuda()\n",
    "        \n",
    "        outputs = model(inputs)     \n",
    "        loss = lossFn(outputs, labels) # Calculate the loss\n",
    "        loss += loss.item()\n",
    "        # Record the correct predictions for training data\n",
    "        _, predicted = torch.max(outputs, 1)\n",
    "        correct += (predicted == labels).sum()\n",
    "        \n",
    "        iterations += 1\n",
    "\n",
    "    # Record the Testing loss\n",
    "    testLoss.append(loss/iterations)\n",
    "    # Record the Testing accuracy\n",
    "    testAccuracy.append((100 * correct / len(testDs)))\n",
    "    \n",
    "    print ('Epoch {}/{}, Training Loss: {:.3f}, Training Accuracy: {:.3f}, Testing Loss: {:.3f}, Testing Acc: {:.3f}'\n",
    "           .format(epoch+1, numOfEpochs, trainLoss[-1], trainAccuracy[-1], \n",
    "             testLoss[-1], testAccuracy[-1]))"
   ]
  },
  {
   "cell_type": "code",
   "execution_count": 21,
   "metadata": {},
   "outputs": [
    {
     "data": {
      "image/png": "[encoded data removed]",
      "text/plain": [
       "<Figure size 720x720 with 1 Axes>"
      ]
     },
     "metadata": {
      "needs_background": "light"
     },
     "output_type": "display_data"
    }
   ],
   "source": [
    "# Loss\n",
    "f = plt.figure(figsize=(10, 10))\n",
    "plt.plot(trainLoss, label='Training Loss')\n",
    "plt.plot(testLoss, label='Testing Loss')\n",
    "plt.legend()\n",
    "plt.show()"
   ]
  },
  {
   "cell_type": "code",
   "execution_count": 22,
   "metadata": {},
   "outputs": [
    {
     "data": {
      "image/png": "[encoded data removed]",
      "text/plain": [
       "<Figure size 720x720 with 1 Axes>"
      ]
     },
     "metadata": {
      "needs_background": "light"
     },
     "output_type": "display_data"
    }
   ],
   "source": [
    "# Accuracy\n",
    "f = plt.figure(figsize=(10, 10))\n",
    "plt.plot(trainAccuracy, label='Training Accuracy')\n",
    "plt.plot(testAccuracy, label='Testing Accuracy')\n",
    "plt.legend()\n",
    "plt.show()"
   ]
  },
  {
   "cell_type": "code",
   "execution_count": 25,
   "metadata": {},
   "outputs": [
    {
     "name": "stdout",
     "output_type": "stream",
     "text": [
      "tensor([[-5.8519, -3.7816, -0.0913, 14.8118, -5.2971,  4.3210, -7.6450,  1.3923,\n",
      "          0.6289,  4.6584]], grad_fn=<AddmmBackward>)\n",
      "tensor([[-5.8519, -3.7816, -0.0913, 14.8118, -5.2971,  4.3210, -7.6450,  1.3923,\n",
      "          0.6289,  4.6584]])\n",
      "Prediction is:  3\n",
      "Actual is is :  3\n"
     ]
    }
   ],
   "source": [
    "img = testDs[30][0].resize_((1, 1, 28, 28))   #(batch_size,channels,height,width)\n",
    "img = Variable(img)\n",
    "label = testDs[30][1]\n",
    "\n",
    "model.eval()\n",
    "\n",
    "if torch.cuda.is_available():\n",
    "    model = model.cuda()\n",
    "    img = img.cuda()\n",
    "    \n",
    "output = model(img)\n",
    "print(output)\n",
    "print(output.data)\n",
    "_, predicted = torch.max(output,1)\n",
    "print(\"Prediction is: \", predicted.item())\n",
    "print(\"Actual is is : \", label)"
   ]
  },
  {
   "cell_type": "code",
   "execution_count": null,
   "metadata": {},
   "outputs": [],
   "source": []
  }
 ],
 "metadata": {
  "kernelspec": {
   "display_name": "Python 3",
   "language": "python",
   "name": "python3"
  },
  "language_info": {
   "codemirror_mode": {
    "name": "ipython",
    "version": 3
   },
   "file_extension": ".py",
   "mimetype": "text/x-python",
   "name": "python",
   "nbconvert_exporter": "python",
   "pygments_lexer": "ipython3",
   "version": "3.7.3"
  }
 },
 "nbformat": 4,
 "nbformat_minor": 2
}
