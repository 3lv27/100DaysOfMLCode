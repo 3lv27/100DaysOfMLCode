{
 "cells": [
  {
   "cell_type": "code",
   "execution_count": 1,
   "metadata": {},
   "outputs": [],
   "source": [
    "import numpy as np\n",
    "import torch\n",
    "import torch.nn as nn\n",
    "from torch.autograd import Variable\n",
    "import pandas as pd\n",
    "from sklearn.preprocessing import StandardScaler\n",
    "from torch.utils.data import Dataset"
   ]
  },
  {
   "cell_type": "code",
   "execution_count": 2,
   "metadata": {},
   "outputs": [],
   "source": [
    "data = pd.read_csv('./.data/diabetes.csv')"
   ]
  },
  {
   "cell_type": "code",
   "execution_count": 3,
   "metadata": {},
   "outputs": [],
   "source": [
    "x = data.iloc[:,0:-1].values #.values convert to numpy array\n",
    "yString= list(data.iloc[:,-1])"
   ]
  },
  {
   "cell_type": "code",
   "execution_count": 4,
   "metadata": {},
   "outputs": [
    {
     "data": {
      "text/plain": [
       "(array([[  6. , 148. ,  72. , ...,   0. ,  33.6,  50. ],\n",
       "        [  1. ,  85. ,  66. , ...,   0. ,  26.6,  31. ],\n",
       "        [  8. , 183. ,  64. , ...,   0. ,  23.3,  32. ],\n",
       "        ...,\n",
       "        [  5. , 121. ,  72. , ..., 112. ,  26.2,  30. ],\n",
       "        [  1. , 126. ,  60. , ...,   0. ,  30.1,  47. ],\n",
       "        [  1. ,  93. ,  70. , ...,   0. ,  30.4,  23. ]]),\n",
       " ['positive', 'negative', 'positive', 'negative', 'positive'])"
      ]
     },
     "execution_count": 4,
     "metadata": {},
     "output_type": "execute_result"
    }
   ],
   "source": [
    "x, yString[:5] #checking the data"
   ]
  },
  {
   "cell_type": "code",
   "execution_count": 5,
   "metadata": {},
   "outputs": [],
   "source": [
    "yInt = []\n",
    "for string in yString:\n",
    "    if string == 'positive':\n",
    "        yInt.append(1)\n",
    "    else:\n",
    "        yInt.append(0)"
   ]
  },
  {
   "cell_type": "code",
   "execution_count": 6,
   "metadata": {},
   "outputs": [
    {
     "data": {
      "text/plain": [
       "array([1., 0., 1., 0., 1.])"
      ]
     },
     "execution_count": 6,
     "metadata": {},
     "output_type": "execute_result"
    }
   ],
   "source": [
    "y = np.array(yInt, dtype = 'float64') # to np array\n",
    "y[:5]"
   ]
  },
  {
   "cell_type": "code",
   "execution_count": 7,
   "metadata": {},
   "outputs": [
    {
     "data": {
      "text/plain": [
       "array([[ 0.63994726,  0.84832379,  0.14964075, ..., -0.69289057,\n",
       "         0.20401277,  1.4259954 ],\n",
       "       [-0.84488505, -1.12339636, -0.16054575, ..., -0.69289057,\n",
       "        -0.68442195, -0.19067191],\n",
       "       [ 1.23388019,  1.94372388, -0.26394125, ..., -0.69289057,\n",
       "        -1.10325546, -0.10558415],\n",
       "       ...,\n",
       "       [ 0.3429808 ,  0.00330087,  0.14964075, ...,  0.27959377,\n",
       "        -0.73518964, -0.27575966],\n",
       "       [-0.84488505,  0.1597866 , -0.47073225, ..., -0.69289057,\n",
       "        -0.24020459,  1.17073215],\n",
       "       [-0.84488505, -0.8730192 ,  0.04624525, ..., -0.69289057,\n",
       "        -0.20212881, -0.87137393]])"
      ]
     },
     "execution_count": 7,
     "metadata": {},
     "output_type": "execute_result"
    }
   ],
   "source": [
    "sc = StandardScaler()\n",
    "x = sc.fit_transform(x) \n",
    "#normalizing the data, it calculates the mean and sd and \n",
    "#then transform normalizing the data ((value - mean) / sd)\n",
    "x"
   ]
  },
  {
   "cell_type": "code",
   "execution_count": 8,
   "metadata": {},
   "outputs": [
    {
     "name": "stdout",
     "output_type": "stream",
     "text": [
      "before unsqueeze => (768,)\n",
      "after unsqueeze => torch.Size([768, 1])\n"
     ]
    }
   ],
   "source": [
    "x = torch.tensor(x)\n",
    "print('before unsqueeze =>', y.shape)\n",
    "y = torch.tensor(y).unsqueeze(1) #addinf aditional dimension to the first index\n",
    "print('after unsqueeze =>', y.shape)"
   ]
  },
  {
   "cell_type": "code",
   "execution_count": 9,
   "metadata": {},
   "outputs": [
    {
     "name": "stdout",
     "output_type": "stream",
     "text": [
      "torch.Size([768, 7]) torch.float64\n",
      "torch.Size([768, 1]) torch.float64\n"
     ]
    }
   ],
   "source": [
    "#checking that we have the same structure\n",
    "print(x.shape, x.dtype)\n",
    "print(y.shape, y.dtype)"
   ]
  },
  {
   "cell_type": "code",
   "execution_count": 10,
   "metadata": {},
   "outputs": [],
   "source": [
    "#Because we are using our own ds, we need to create that class to tell Pytorch about it\n",
    "class Dataset(Dataset):\n",
    "    def __init__(self, x, y):\n",
    "        self.x = x\n",
    "        self.y = y\n",
    "        \n",
    "    def __getitem__(self, index):\n",
    "        return self.x[index], self.y[index]\n",
    "    \n",
    "    def __len__(self):\n",
    "        return len(self.x)"
   ]
  },
  {
   "cell_type": "code",
   "execution_count": 11,
   "metadata": {},
   "outputs": [],
   "source": [
    "dataset = Dataset(x, y)"
   ]
  },
  {
   "cell_type": "code",
   "execution_count": 12,
   "metadata": {},
   "outputs": [
    {
     "name": "stdout",
     "output_type": "stream",
     "text": [
      "torch.Size([768, 7])\n",
      "torch.Size([768, 1])\n"
     ]
    }
   ],
   "source": [
    "print(dataset.x.shape)\n",
    "print(dataset.y.shape)"
   ]
  },
  {
   "cell_type": "code",
   "execution_count": 13,
   "metadata": {},
   "outputs": [],
   "source": [
    "trainLoader = torch.utils.data.DataLoader(dataset=dataset, batch_size=32, shuffle=True)"
   ]
  },
  {
   "cell_type": "code",
   "execution_count": 14,
   "metadata": {},
   "outputs": [
    {
     "data": {
      "text/plain": [
       "24"
      ]
     },
     "execution_count": 14,
     "metadata": {},
     "output_type": "execute_result"
    }
   ],
   "source": [
    "len(trainLoader) #24 * 32 = 768"
   ]
  },
  {
   "cell_type": "code",
   "execution_count": 15,
   "metadata": {},
   "outputs": [
    {
     "name": "stdout",
     "output_type": "stream",
     "text": [
      "There is 24 batches in the dataset\n",
      "For one iteration (batch), there is:\n",
      "Data:    torch.Size([32, 7]) , Type: torch.float64 \n",
      "Labels:  torch.Size([32, 1]) , Type: torch.float64\n"
     ]
    }
   ],
   "source": [
    "print(\"There is {} batches in the dataset\".format(len(trainLoader)))\n",
    "shown = 0\n",
    "for (x,y) in trainLoader:\n",
    "    if shown == 1:\n",
    "        break\n",
    "    print(\"For one iteration (batch), there is:\")\n",
    "    print(\"Data:    {} , Type: {} \".format(x.shape, x.dtype))\n",
    "    print(\"Labels:  {} , Type: {}\" .format(y.shape, y.dtype))\n",
    "    shown += 1"
   ]
  },
  {
   "cell_type": "code",
   "execution_count": 16,
   "metadata": {},
   "outputs": [],
   "source": [
    "class Model(nn.Module):\n",
    "    def __init__(self):\n",
    "        super(Model, self).__init__()\n",
    "        self.fc1 = torch.nn.Linear(x.shape[1], 5)\n",
    "        self.fc2 = torch.nn.Linear(5, 3)\n",
    "        self.fc3 = torch.nn.Linear(3, 1)\n",
    "        self.sigmoid = torch.nn.Sigmoid()\n",
    "\n",
    "    def forward(self, x):\n",
    "        out = self.fc1(x)\n",
    "        out = self.sigmoid(out)\n",
    "        out = self.fc2(out)\n",
    "        out = self.sigmoid(out)\n",
    "        out = self.fc3(out)\n",
    "        out = self.sigmoid(out)\n",
    "        return out"
   ]
  },
  {
   "cell_type": "code",
   "execution_count": 38,
   "metadata": {},
   "outputs": [],
   "source": [
    "net = Model()\n",
    "#In Cross Entropy Loss: the Input should be of shape (N,C) and the labels should be of shape (N)\n",
    "#In Binary Cross Entropy: the input and output should have the same shape \n",
    "#reduction='mean' --> the losses are averaged over observations for each minibatch (size_average = True - before) \n",
    "criterion = torch.nn.BCELoss(reduction='mean')   \n",
    "optimizer = torch.optim.SGD(net.parameters(), lr=0.021, weight_decay=1e-5)"
   ]
  },
  {
   "cell_type": "code",
   "execution_count": 27,
   "metadata": {},
   "outputs": [
    {
     "data": {
      "text/plain": [
       "<bound method Module.parameters of Model(\n",
       "  (fc1): Linear(in_features=7, out_features=5, bias=True)\n",
       "  (fc2): Linear(in_features=5, out_features=3, bias=True)\n",
       "  (fc3): Linear(in_features=3, out_features=1, bias=True)\n",
       "  (sigmoid): Sigmoid()\n",
       ")>"
      ]
     },
     "execution_count": 27,
     "metadata": {},
     "output_type": "execute_result"
    }
   ],
   "source": [
    "net.parameters"
   ]
  },
  {
   "cell_type": "code",
   "execution_count": 40,
   "metadata": {},
   "outputs": [
    {
     "name": "stdout",
     "output_type": "stream",
     "text": [
      "Epoch 1/100, Loss: 0.335, Accuracy: 0.875\n",
      "Epoch 2/100, Loss: 0.460, Accuracy: 0.750\n",
      "Epoch 3/100, Loss: 0.444, Accuracy: 0.750\n",
      "Epoch 4/100, Loss: 0.521, Accuracy: 0.719\n",
      "Epoch 5/100, Loss: 0.433, Accuracy: 0.781\n",
      "Epoch 6/100, Loss: 0.426, Accuracy: 0.812\n",
      "Epoch 7/100, Loss: 0.362, Accuracy: 0.844\n",
      "Epoch 8/100, Loss: 0.363, Accuracy: 0.844\n",
      "Epoch 9/100, Loss: 0.351, Accuracy: 0.812\n",
      "Epoch 10/100, Loss: 0.502, Accuracy: 0.781\n",
      "Epoch 11/100, Loss: 0.362, Accuracy: 0.812\n",
      "Epoch 12/100, Loss: 0.662, Accuracy: 0.625\n",
      "Epoch 13/100, Loss: 0.441, Accuracy: 0.688\n",
      "Epoch 14/100, Loss: 0.455, Accuracy: 0.719\n",
      "Epoch 15/100, Loss: 0.386, Accuracy: 0.906\n",
      "Epoch 16/100, Loss: 0.546, Accuracy: 0.719\n",
      "Epoch 17/100, Loss: 0.422, Accuracy: 0.812\n",
      "Epoch 18/100, Loss: 0.384, Accuracy: 0.750\n",
      "Epoch 19/100, Loss: 0.660, Accuracy: 0.594\n",
      "Epoch 20/100, Loss: 0.437, Accuracy: 0.812\n",
      "Epoch 21/100, Loss: 0.409, Accuracy: 0.781\n",
      "Epoch 22/100, Loss: 0.507, Accuracy: 0.750\n",
      "Epoch 23/100, Loss: 0.437, Accuracy: 0.844\n",
      "Epoch 24/100, Loss: 0.430, Accuracy: 0.781\n",
      "Epoch 25/100, Loss: 0.320, Accuracy: 0.875\n",
      "Epoch 26/100, Loss: 0.459, Accuracy: 0.812\n",
      "Epoch 27/100, Loss: 0.405, Accuracy: 0.812\n",
      "Epoch 28/100, Loss: 0.418, Accuracy: 0.812\n",
      "Epoch 29/100, Loss: 0.494, Accuracy: 0.719\n",
      "Epoch 30/100, Loss: 0.519, Accuracy: 0.750\n",
      "Epoch 31/100, Loss: 0.399, Accuracy: 0.844\n",
      "Epoch 32/100, Loss: 0.636, Accuracy: 0.719\n",
      "Epoch 33/100, Loss: 0.268, Accuracy: 0.906\n",
      "Epoch 34/100, Loss: 0.410, Accuracy: 0.844\n",
      "Epoch 35/100, Loss: 0.445, Accuracy: 0.750\n",
      "Epoch 36/100, Loss: 0.392, Accuracy: 0.812\n",
      "Epoch 37/100, Loss: 0.306, Accuracy: 0.844\n",
      "Epoch 38/100, Loss: 0.363, Accuracy: 0.781\n",
      "Epoch 39/100, Loss: 0.477, Accuracy: 0.875\n",
      "Epoch 40/100, Loss: 0.601, Accuracy: 0.688\n",
      "Epoch 41/100, Loss: 0.583, Accuracy: 0.688\n",
      "Epoch 42/100, Loss: 0.447, Accuracy: 0.812\n",
      "Epoch 43/100, Loss: 0.457, Accuracy: 0.781\n",
      "Epoch 44/100, Loss: 0.466, Accuracy: 0.812\n",
      "Epoch 45/100, Loss: 0.468, Accuracy: 0.781\n",
      "Epoch 46/100, Loss: 0.392, Accuracy: 0.781\n",
      "Epoch 47/100, Loss: 0.597, Accuracy: 0.688\n",
      "Epoch 48/100, Loss: 0.564, Accuracy: 0.688\n",
      "Epoch 49/100, Loss: 0.457, Accuracy: 0.812\n",
      "Epoch 50/100, Loss: 0.490, Accuracy: 0.781\n",
      "Epoch 51/100, Loss: 0.440, Accuracy: 0.750\n",
      "Epoch 52/100, Loss: 0.434, Accuracy: 0.750\n",
      "Epoch 53/100, Loss: 0.572, Accuracy: 0.688\n",
      "Epoch 54/100, Loss: 0.347, Accuracy: 0.875\n",
      "Epoch 55/100, Loss: 0.367, Accuracy: 0.875\n",
      "Epoch 56/100, Loss: 0.281, Accuracy: 0.938\n",
      "Epoch 57/100, Loss: 0.430, Accuracy: 0.812\n",
      "Epoch 58/100, Loss: 0.484, Accuracy: 0.719\n",
      "Epoch 59/100, Loss: 0.580, Accuracy: 0.656\n",
      "Epoch 60/100, Loss: 0.307, Accuracy: 0.938\n",
      "Epoch 61/100, Loss: 0.379, Accuracy: 0.906\n",
      "Epoch 62/100, Loss: 0.472, Accuracy: 0.750\n",
      "Epoch 63/100, Loss: 0.539, Accuracy: 0.625\n",
      "Epoch 64/100, Loss: 0.488, Accuracy: 0.688\n",
      "Epoch 65/100, Loss: 0.432, Accuracy: 0.812\n",
      "Epoch 66/100, Loss: 0.335, Accuracy: 0.844\n",
      "Epoch 67/100, Loss: 0.386, Accuracy: 0.812\n",
      "Epoch 68/100, Loss: 0.583, Accuracy: 0.750\n",
      "Epoch 69/100, Loss: 0.455, Accuracy: 0.688\n",
      "Epoch 70/100, Loss: 0.531, Accuracy: 0.719\n",
      "Epoch 71/100, Loss: 0.447, Accuracy: 0.750\n",
      "Epoch 72/100, Loss: 0.450, Accuracy: 0.750\n",
      "Epoch 73/100, Loss: 0.335, Accuracy: 0.844\n",
      "Epoch 74/100, Loss: 0.330, Accuracy: 0.906\n",
      "Epoch 75/100, Loss: 0.436, Accuracy: 0.812\n",
      "Epoch 76/100, Loss: 0.613, Accuracy: 0.750\n",
      "Epoch 77/100, Loss: 0.491, Accuracy: 0.688\n",
      "Epoch 78/100, Loss: 0.478, Accuracy: 0.812\n",
      "Epoch 79/100, Loss: 0.544, Accuracy: 0.750\n",
      "Epoch 80/100, Loss: 0.559, Accuracy: 0.688\n",
      "Epoch 81/100, Loss: 0.482, Accuracy: 0.719\n",
      "Epoch 82/100, Loss: 0.519, Accuracy: 0.812\n",
      "Epoch 83/100, Loss: 0.466, Accuracy: 0.750\n",
      "Epoch 84/100, Loss: 0.371, Accuracy: 0.844\n",
      "Epoch 85/100, Loss: 0.327, Accuracy: 0.875\n",
      "Epoch 86/100, Loss: 0.451, Accuracy: 0.812\n",
      "Epoch 87/100, Loss: 0.471, Accuracy: 0.750\n",
      "Epoch 88/100, Loss: 0.512, Accuracy: 0.719\n",
      "Epoch 89/100, Loss: 0.426, Accuracy: 0.750\n",
      "Epoch 90/100, Loss: 0.553, Accuracy: 0.656\n",
      "Epoch 91/100, Loss: 0.429, Accuracy: 0.781\n",
      "Epoch 92/100, Loss: 0.445, Accuracy: 0.750\n",
      "Epoch 93/100, Loss: 0.410, Accuracy: 0.781\n",
      "Epoch 94/100, Loss: 0.416, Accuracy: 0.781\n",
      "Epoch 95/100, Loss: 0.632, Accuracy: 0.719\n",
      "Epoch 96/100, Loss: 0.556, Accuracy: 0.688\n",
      "Epoch 97/100, Loss: 0.682, Accuracy: 0.594\n",
      "Epoch 98/100, Loss: 0.586, Accuracy: 0.625\n",
      "Epoch 99/100, Loss: 0.527, Accuracy: 0.719\n",
      "Epoch 100/100, Loss: 0.321, Accuracy: 0.875\n"
     ]
    }
   ],
   "source": [
    "epochs = 100\n",
    "for epoch in range(epochs):\n",
    "    for inputs, labels in trainLoader:\n",
    "        inputs = Variable(inputs.float())\n",
    "        labels = Variable(labels.float())\n",
    "        output = net(inputs)\n",
    "        optimizer.zero_grad()\n",
    "        #loss =  -(labels * torch.log(output) + (1 - labels) * torch.log(1 - output)).mean()\n",
    "        loss = criterion(output, labels)\n",
    "        loss.backward()\n",
    "        optimizer.step()\n",
    "    #Accuracy\n",
    "    #After we have looped through all our dataset, we can evaluate on the last iteration of each epoch. \n",
    "    #'output' is the network's output of the last mini-batch of the epoch, and labels is the corresponding batch labels\n",
    "    output = (output>0.5).float()\n",
    "    correct = (output == labels).float().sum()\n",
    "    print(\"Epoch {}/{}, Loss: {:.3f}, Accuracy: {:.3f}\".format(epoch+1,epochs, loss.item(), correct/output.shape[0]))"
   ]
  },
  {
   "cell_type": "code",
   "execution_count": null,
   "metadata": {},
   "outputs": [],
   "source": []
  },
  {
   "cell_type": "code",
   "execution_count": null,
   "metadata": {},
   "outputs": [],
   "source": []
  }
 ],
 "metadata": {
  "kernelspec": {
   "display_name": "Python 3",
   "language": "python",
   "name": "python3"
  },
  "language_info": {
   "codemirror_mode": {
    "name": "ipython",
    "version": 3
   },
   "file_extension": ".py",
   "mimetype": "text/x-python",
   "name": "python",
   "nbconvert_exporter": "python",
   "pygments_lexer": "ipython3",
   "version": "3.7.3"
  }
 },
 "nbformat": 4,
 "nbformat_minor": 2
}
